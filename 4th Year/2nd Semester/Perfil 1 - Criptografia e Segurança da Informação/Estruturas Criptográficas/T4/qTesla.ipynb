{
 "cells": [
  {
   "cell_type": "markdown",
   "metadata": {},
   "source": [
    "# qTesla\n",
    "\n",
    "O esquema qTesla é um esquema RLWE, ou seja, adota o problema computacional de `Ring Learning with Errors` para criar algoritmo criptográfico potente, capaz de se proteger a criptanálise de computadores quânticos."
   ]
  },
  {
   "cell_type": "code",
   "execution_count": 1,
   "metadata": {},
   "outputs": [],
   "source": [
    "import numpy as np\n",
    "import hashlib\n",
    "from cryptography.hazmat.backends import default_backend\n",
    "from cryptography.hazmat.primitives import hashes"
   ]
  },
  {
   "cell_type": "markdown",
   "metadata": {},
   "source": [
    "## Parâmetros para utilizar\n",
    "\n",
    "$n$: dimensão\n",
    "\n",
    "$k$: nº de amostras\n",
    "\n",
    "$q$: módulo\n",
    "\n",
    "$h$: nº de entradas diferentes de 0 nos `returns` da função `Enc`\n",
    "\n",
    "$K$: comprimento do output da função `H` e do input da `GenA` e `Enc`\n",
    "\n",
    "$Le$: limite de `checkE`\n",
    "\n",
    "$Ls$: limite de `checkS`\n",
    "\n",
    "$B$: determina o intervalo de aleatoriedade durante a assinatura\n",
    "\n",
    "$d$: bits aleaórios"
   ]
  },
  {
   "cell_type": "code",
   "execution_count": 2,
   "metadata": {},
   "outputs": [],
   "source": [
    "K = 256\n",
    "k = 1\n",
    "h = 30\n",
    "Le = 1586\n",
    "Ls = 1586\n",
    "B = 2^20-1\n",
    "d = 21\n",
    "n = 512\n",
    "q = 4205569\n",
    "\n",
    "Zx.<x> = ZZ[]\n",
    "Gq.<z> = GF(q)[]\n",
    "\n",
    "R.<x> = Zx.quotient(x^n+1) # R\n",
    "Rq.<z> = Gq.quotient(z^n+1) # R/q"
   ]
  },
  {
   "cell_type": "markdown",
   "metadata": {},
   "source": [
    "## Funções Auxiliares"
   ]
  },
  {
   "cell_type": "code",
   "execution_count": 3,
   "metadata": {},
   "outputs": [],
   "source": [
    "def criarhash(s):\n",
    "    h = hashlib.sha256()\n",
    "    h.update(s)\n",
    "    return h.digest()\n",
    "\n",
    "def binary(tamanho=n):\n",
    "    return list(np.random.choice([0,1],tamanho))\n",
    "\n",
    "def GenA():\n",
    "    return Rq.random_element()\n",
    "\n",
    "def _center_lift(x):\n",
    "    return lift(x + q//2) - q//2\n",
    "\n",
    "def _round(w):\n",
    "    return Zx(map(lambda x: _center_lift(x), w.list()))\n",
    "\n",
    "def checkS(s):\n",
    "    sum = 0\n",
    "    ls = list(s)\n",
    "    ls.sort(reverse=True)\n",
    "    for i in range(0, h):\n",
    "        sum += ls[i]\n",
    "    if sum > Ls:\n",
    "        return 1\n",
    "    else:\n",
    "        return 0\n",
    "    \n",
    "def checkE(e):\n",
    "    sum = 0\n",
    "    ls = list(e)\n",
    "    ls.sort(reverse=True)\n",
    "    for i in range(0, h):\n",
    "        sum += ls[i]\n",
    "    if sum > Le:\n",
    "        return 1\n",
    "    else:\n",
    "        return 0\n",
    "\n",
    "def H(v, hash_m):\n",
    "    w = [0] * n\n",
    "    for i in range(n):\n",
    "        val = v[i] % 2^d\n",
    "        if val > 2^(d-1):\n",
    "            val = val - 2^d\n",
    "        w[i] = (v[i] - val)/2^d\n",
    "    return criarhash(str(w)+hash_m)"
   ]
  },
  {
   "cell_type": "code",
   "execution_count": 4,
   "metadata": {},
   "outputs": [],
   "source": [
    "def setup():\n",
    "    a = GenA()\n",
    "    s = None\n",
    "    while True:\n",
    "        s = Rq.random_element(distribution=\"gaussian\")\n",
    "        if checkS(s) == 0:\n",
    "            break\n",
    "    \n",
    "    e = None\n",
    "    while True:\n",
    "        e = Rq.random_element(distribution=\"gaussian\")\n",
    "        if checkE(e) == 0:\n",
    "            break\n",
    "    t = a*s + e\n",
    "    secret_key = (s, e, a)\n",
    "    public_key = (a, t)\n",
    "    return secret_key, public_key\n",
    "\n",
    "def sign(mensagem, secret_key):\n",
    "    s, e, a = secret_key\n",
    "    y = Rq.random_element(x=-B, y=B+1, distribution=\"uniform\")\n",
    "    v = _round(a*y)\n",
    "    c1 = H(v, criarhash(str(m)))\n",
    "    c2 = Enc(c1)\n",
    "    z = y + s*c2\n",
    "    return (z, c1)\n",
    "\n",
    "def verify(mensagem, assinatura, public_key):\n",
    "    z, c1 = s\n",
    "    c2 = Enc(c1)\n",
    "    a, t = public_key\n",
    "    w = _round(a*z - t)\n",
    "    if c1 != H(w, hash(str(mensagem))):\n",
    "        return False\n",
    "    else:\n",
    "        return True"
   ]
  },
  {
   "cell_type": "code",
   "execution_count": null,
   "metadata": {},
   "outputs": [],
   "source": [
    "mensagem = binary(n)\n",
    "\n",
    "secret_key, public_key = setup()\n",
    "\n",
    "assinatura = sign(mensagem, secret_key)\n",
    "\n",
    "resultado = verify(mensagem, assinatura, public_key)\n",
    "\n",
    "print(res)"
   ]
  }
 ],
 "metadata": {
  "kernelspec": {
   "display_name": "SageMath 9.0",
   "language": "sage",
   "name": "sagemath"
  },
  "language_info": {
   "codemirror_mode": {
    "name": "ipython",
    "version": 3
   },
   "file_extension": ".py",
   "mimetype": "text/x-python",
   "name": "python",
   "nbconvert_exporter": "python",
   "pygments_lexer": "ipython3",
   "version": "3.8.2"
  }
 },
 "nbformat": 4,
 "nbformat_minor": 4
}
