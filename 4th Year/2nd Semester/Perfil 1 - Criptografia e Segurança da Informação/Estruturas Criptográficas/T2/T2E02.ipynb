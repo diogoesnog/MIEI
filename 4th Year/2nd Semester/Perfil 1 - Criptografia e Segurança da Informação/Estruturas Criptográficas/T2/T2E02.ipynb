{
 "cells": [
  {
   "cell_type": "markdown",
   "metadata": {
    "colab_type": "text",
    "id": "8y3xx-h92Y8r"
   },
   "source": [
    "# Implementação do DSA com o *SageMath*\n",
    "\n",
    "## Descrição do Exercício\n",
    "\n",
    "Construir uma classe Python que implemente o DSA. A implementação deve:\n",
    "  1. A iniciação,  receber como parâmetros o tamanho  dos primos $p$ e $q$.\n",
    "  2. Conter funções para assinar digitalmente e verificar a assinatura.\n",
    "\n",
    "## Descrição da Implementação\n",
    "\n",
    "Para a inicialização do DSA existiu a criação duma classe que tivesse como parâmetros de construção os tamanhos dos primos $p$ e $q$, também comummente chamados de $L$ e $N$, com valores recomendados de $(1024, 160), (2048, 224), (2048, 256), (3072, 256)$.\n",
    "\n",
    "### Geração dos parâmetros DSA\n",
    "\n",
    "$q$ é um **número primo** de tamanho $2^{N–1} < p < 2^{N}$;\n",
    "\n",
    "$p$ é um **número primo** de tamanho $2^{L–1} < p < 2^{L}$, tal que $(p-1)$ tem de ser múltiplo de $q$;\n",
    "\n",
    "$g$ é um gerador tal que $g := h^{(p - 1)/q} \\mod p$.\n",
    "\n",
    "### Geração das chaves DSA\n",
    "\n",
    "Após existirem os parâmetros DSA $(p, q, g)$ podemos assim criar as chaves DSA da seguinte forma:\n",
    "\n",
    "- Seleção dum inteiro que $\\in \\{ 1 \\ldots q-1 \\}$ que servirá de **chave privada DSA*;\n",
    "- A geração da **chave pública** utilizando a seguinte equação $g^x \\mod p$\n",
    "\n",
    "### Assinatura DSA\n",
    "\n",
    "Agora com as chaves DSA já geradas, podemos efetuar uma assinatura duma mensagem simples, usando para tal efeito a **chave privada** criada anteriormente.\n",
    "\n",
    "- Seleção dum inteiro $k$ que $\\in \\{ 1 \\ldots q-1 \\}$;\n",
    "- A geração do $r$ sendo que $r := (g^{k}\\bmod\\,p)\\bmod\\,q$;\n",
    "- A geração do $s$ sendo que $s := (k^{-1}(H(m)+xr))\\bmod\\,q$;\n",
    "\n",
    "Ficando assim com o par que representa a assinatura DSA $(r,s)$.\n",
    "\n",
    "### Verificação DSA\n",
    "\n",
    "Para verificar que a assinatura DSA $(r,s)$ é válida para a mensagem $m$ segue-se os seguintes passos:\n",
    "* Verifica-se se $0 < r < q$ e $0 < s < q$;\n",
    "* Gera-se $ w := s^{-1} \\bmod\\,q$.\n",
    "* Gera-se $u_1 := H(m) \\cdot w\\, \\bmod\\,q$.\n",
    "* Gera-se $u_2 := r \\cdot w\\, \\bmod\\,q$.\n",
    "* Gera-se $  v := \\left(g^{u_1}y^{u_2} \\bmod\\,p\\right) \\bmod\\,q$.\n",
    "\n",
    "A assinatura é válida para a mensagem se e só se $v == r$.\n",
    "\n",
    "## Resolução do Exercício"
   ]
  },
  {
   "cell_type": "code",
   "execution_count": 1,
   "metadata": {
    "colab": {},
    "colab_type": "code",
    "id": "dTJsc_uj2Y8s"
   },
   "outputs": [],
   "source": [
    "from random import randint\n",
    "\n",
    "\n",
    "class DSA:\n",
    "    \n",
    "    def __init__(self, l, n):\n",
    "        \n",
    "        self.tamprimop = l\n",
    "        if n <= 256:\n",
    "            self.tamprimoq = n\n",
    "        else: self.tamprimoq = 256 # Por causa do tamanho de N <= | H | e a hash a usar é SHA-256\n",
    "            \n",
    "    \n",
    "    def gerarparametros(self):\n",
    " \n",
    "        # Escolha de primos grandes\n",
    "        \n",
    "        self.p = random_prime ( 2^self.tamprimop , proof=False , lbound=2^(self.tamprimop-1) )\n",
    "        print \"P: \",self.p\n",
    "        \n",
    "        self.q = random_prime ( 2^self.tamprimoq , proof=False , lbound=2^(self.tamprimoq-1) )\n",
    "        \n",
    "        print \"Q: \",self.q\n",
    "\n",
    "        h = Integer(1, self.p-1)\n",
    "            \n",
    "        self.g = ( ( h ^ ( (self.p-1) / self.q ) ) % self.p)\n",
    "            \n",
    "    def gerarchaves(self):\n",
    "\n",
    "        privkey = randint(1, self.q-1) # privkey é um inteiro de {1 .. q-1}\n",
    "\n",
    "        pubkey = power_mod(self.g, privkey, self.p) # pubkey = g^x mod p\n",
    "\n",
    "        return (privkey, pubkey)\n",
    "    \n",
    "    def assinar(self, privkey, mensagem):\n",
    "        \n",
    "        print \"--- A assinar a mensagem: {} ---\".format(mensagem)\n",
    "        \n",
    "        # Criação do inteiro random k\n",
    "        k = randint(1,self.q-1)\n",
    "        \n",
    "        # Criar o par da assinatura DSA\n",
    "        r = ( ( self.g^k ) % self.p ) % self.q\n",
    "        s = ( ( k^-1 ) * ( hash ( mensagem ) + privkey * r ) ) % self.q\n",
    "        \n",
    "        # Assinatura = ( r , s ) \n",
    "        return (r,s) \n",
    "    \n",
    "    \n",
    "    def verificar(self, assinatura, pubkey, mensagem):\n",
    "        \n",
    "        print \"--- A verificar a assinatura para a mensagem: {} ---\".format(mensagem)\n",
    "        \n",
    "        r = assinatura[0]\n",
    "        s = assinatura[1]\n",
    "        \n",
    "        w = (s^-1) % self.q\n",
    "        \n",
    "        u1 = (hash (mensagem) * w) % self.q\n",
    "        u2 = (r * w) % self.q\n",
    "        \n",
    "        v = ( ( (self.g^u1) * (pubkey^u2) ) % self.p ) % self.q\n",
    "        \n",
    "        if v == r: print \"--- Assinatura verificada para a mensagem. ---\"\n",
    "        else: print \"--- Assinatura não corresponde à mensagem. ---\""
   ]
  },
  {
   "cell_type": "markdown",
   "metadata": {
    "colab_type": "text",
    "id": "hTXE6VQHcvfh"
   },
   "source": [
    "## Teste da Classe\n",
    "\n",
    "Segue-se abaixo um teste desenvolvido para esta classe. **A ideia passa pelos seguintes passos:**\n",
    "\n",
    "- Gerar um par de chaves (privkey,pubkey)\n",
    "- Assinar essa mensagem inicial com a *Private Key* X\n",
    "- Criar uma nova mensagem diferente.\n",
    "- Verificar a assinatura com essa nova mensagem"
   ]
  },
  {
   "cell_type": "code",
   "execution_count": 2,
   "metadata": {
    "colab": {
     "base_uri": "https://localhost:8080/",
     "height": 235
    },
    "colab_type": "code",
    "id": "ex-vrmyG2Y8w",
    "outputId": "78aef530-afb3-4ba7-eb4d-2768bb1a90c2"
   },
   "outputs": [
    {
     "name": "stdout",
     "output_type": "stream",
     "text": [
      "P:  26755791663670275100506220825769201629927866604035063846376967996016178449525930272746012293573608009397531757246610690510208505447733347624902951108382558191063953656539897874235799679545212894190981364911341619558403864593635171673453195249460659052770466380929332949016663623604122859327419821460233902381576447746901156117410270625018544498469745990952829785041388385780577688688942016700134639380379443403017150538013734166352559191142616550925539923420576886726957648475882329130004225048308597609710019381123593032537727707919891366097394669891172455226294637238312135770574138974904048155317364392591096573749\n",
      "Q:  104433067033800923149449905571372533070605156566956955797894614612183632462729\n",
      "--- A assinar a mensagem: Pequena mensagem ---\n",
      "--- A verificar a assinatura para a mensagem: Pequena Mensagem ---\n",
      "--- Assinatura verificada para a mensagem. ---\n"
     ]
    }
   ],
   "source": [
    "# Criar uma instância e sua inicialização\n",
    "myDSA = DSA(2048, 256)\n",
    "\n",
    "# Gerar os parâmetros de instância (p, q, g)\n",
    "myDSA.gerarparametros()\n",
    "\n",
    "# Obter o par de chaves DSA\n",
    "(privkey, pubkey) = myDSA.gerarchaves()\n",
    "\n",
    "# Assinar uma pequena mensagem\n",
    "assinatura =  myDSA.assinar(privkey, \"Pequena mensagem\")\n",
    "\n",
    "# Verificar se a assinatura é da mensagem\n",
    "myDSA.verificar(assinatura, pubkey, \"Pequena Mensagem\")"
   ]
  },
  {
   "cell_type": "markdown",
   "metadata": {
    "colab_type": "text",
    "id": "cczM4GJa2Y81"
   },
   "source": [
    "## Observações Finais\n",
    "\n",
    "- O algoritmo **DSA** encontra-se detalhadamente descrito em várias fontes *online*\n",
    "- Depois de compreender o seu funcionamento torna-se mais simples de começar a aplicar toda a ideia em SageMath"
   ]
  },
  {
   "cell_type": "markdown",
   "metadata": {
    "colab_type": "text",
    "id": "5Di8epd62Y81"
   },
   "source": [
    "## Referências\n",
    "\n",
    "- Wikipedia, SHA-2 https://en.wikipedia.org/wiki/SHA-2 (Acedido a 14 de Abril 2020)\n",
    "- Python, HashLib package https://docs.python.org/3/library/hashlib.html (Acedido a 14 de Abril 2020)\n",
    "- Wikipedia, Digital Signature Algorithm https://en.wikipedia.org/wiki/Digital_Signature_Algorithm (Acedido a 14 abril 2020)"
   ]
  }
 ],
 "metadata": {
  "accelerator": "GPU",
  "colab": {
   "collapsed_sections": [],
   "name": "T2E03.ipynb",
   "provenance": []
  },
  "kernelspec": {
   "display_name": "SageMath 8.1",
   "language": "",
   "name": "sagemath"
  },
  "language_info": {
   "codemirror_mode": {
    "name": "ipython",
    "version": 2
   },
   "file_extension": ".py",
   "mimetype": "text/x-python",
   "name": "python",
   "nbconvert_exporter": "python",
   "pygments_lexer": "ipython2",
   "version": "2.7.17"
  }
 },
 "nbformat": 4,
 "nbformat_minor": 1
}
