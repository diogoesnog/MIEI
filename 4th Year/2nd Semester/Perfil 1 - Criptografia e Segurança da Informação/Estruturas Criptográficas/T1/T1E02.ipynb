{
 "cells": [
  {
   "cell_type": "markdown",
   "metadata": {},
   "source": [
    "# Sessão Síncrona entre Emitter e Receiver com uso de Curvas Elípticas\n",
    "\n",
    "## Descrição do Exercício\n",
    "\n",
    "Versão alternativa da sessão do exercício anterior mas com o uso de **curvas Elípticas**.\n",
    "\n",
    "**Requisitos a ter em conta para esta versão de comunicação:**\n",
    "\n",
    "- Cifra Simétrica **AES** substituída pela cifra **ChaCha20Poly1305**\n",
    "- Protocolo de acordo de chaves **Diffie-Hellman** agora por Curvas Elípticas (**ECDH**)\n",
    "    - Esquema de assinaturas **DSA** agora por Curvas Elípticas (**ECDSA**)\n",
    "- Foi escolhida a curva elíptica *SECP384R1*\n",
    "\n",
    "## Descrição da Implementação\n",
    "\n",
    "Não foi necessário definir quaisquer decisões consoante o que foi pedido. Apenas se efetuaram as substituições pedidas ficando o programa similar ao anterior em termos de **Emitter** e **Receiver**.\n",
    "A grande diferença foi a retirada da autenticação por **HMAC**, dado que agora a cifra pedida pelo professor já é autenticada, através do **MAC** intitulado de **Poly1305**.\n",
    "\n",
    "## Resolução do Exercício"
   ]
  },
  {
   "cell_type": "code",
   "execution_count": 1,
   "metadata": {
    "pycharm": {
     "is_executing": false
    }
   },
   "outputs": [],
   "source": [
    "import os, io\n",
    "from SyncPipe import SyncPipe\n",
    "from ECDH_ECDSA import ecdh_ecdsa\n",
    "from cryptography.hazmat.primitives.ciphers.aead import ChaCha20Poly1305\n",
    "from cryptography.exceptions import *"
   ]
  },
  {
   "cell_type": "markdown",
   "metadata": {},
   "source": [
    "### Definição do Agente Emitter\n",
    "Função que trata de definir o *Emitter* e seu envolvimento no processo de comunicação segura.\n",
    "\n",
    "**Descrição do processo:**\n",
    "\n",
    "- Estabelecimento do acordo de chaves *Elliptic-curve Diffie-Hellman* com assinatura *Elliptic Curve Digital Signature Algorithm*\n",
    "- Criação de um *nonce* aleatório a cada comunicação\n",
    "- Criação da cifra ChaCha20Poly1305\n",
    "\n",
    "Com todos estes valores necessários e com um canal pronto para enviar os dados, a ideia é ir lendo blocos de 32 *bytes* devidamente cifrados, enviando-os sucessivamente pelo canal. Após se enviar todos os blocos de dados fecha-se o canal."
   ]
  },
  {
   "cell_type": "code",
   "execution_count": 2,
   "metadata": {
    "pycharm": {
     "is_executing": false
    }
   },
   "outputs": [],
   "source": [
    "tamanhoMensagem = 2**10\n",
    "\n",
    "def Emitter(connection):\n",
    "    \n",
    "    # Acordo de chaves DH e assinatura DSA\n",
    "    key = ecdh_ecdsa(connection)\n",
    "        \n",
    "    # Criação dum input stream para enviar a mensagem\n",
    "    inputs = io.BytesIO(bytes('D'*tamanhoMensagem,'utf-8'))\n",
    "    \n",
    "    # Inicialização do nonce aleatório (12 bytes)\n",
    "    nonce  = os.urandom(12)\n",
    "    \n",
    "    # Cifra ChaCha20Poly1305\n",
    "    cipher = ChaCha20Poly1305(key)\n",
    "    \n",
    "    # Enviar o IV para o peer\n",
    "    connection.send(nonce)\n",
    "    \n",
    "    # Criação dum buffer para ler os blocos de 32 bytes (256 bits)    \n",
    "    buffer = bytearray(32)\n",
    "    \n",
    "    # lê, cifra e envia sucessivos blocos do input \n",
    "    try:\n",
    "        \n",
    "        # Enquanto existem blocos (while)\n",
    "        while inputs.readinto(buffer): \n",
    "            ciphertext = cipher.encrypt(nonce, bytes(buffer), None)\n",
    "            connection.send(ciphertext)       \n",
    "    except Exception as err:\n",
    "        print(\"Erro no emissor: {0}\".format(err))\n",
    "\n",
    "    # Fechar o stream para colocar inputs\n",
    "    inputs.close()\n",
    "    \n",
    "    # Fechar a conexão com o peer\n",
    "    connection.close()"
   ]
  },
  {
   "cell_type": "markdown",
   "metadata": {},
   "source": [
    "### Definição do Agente Receiver\n",
    "\n",
    "Função que trata de definir o *Receiver* e o seu envolvimento no proceso de comunicação segura.\n",
    "\n",
    "**Descrição do processo:**\n",
    "\n",
    "- Estabelecimento do acordo de chaves *Elliptic-curve Diffie-Hellman* com assinatura *Elliptic Curve Digital Signature Algorithm*\n",
    "- Recebimento do *nonce* enviado pelo *Emitter*\n",
    "- Decifração com cifra ChaCha20Poly1305\n",
    "\n",
    "O processo estipulado para o *Receiver* difere do agente que lhe envia a informação. Com as devidas verificações pode-se ir lendo os blocos que vão surgindo por parte do *Emitter* ao mesmo tempo que decifram. Imprime-se a mensagem final no *Notebook* em si."
   ]
  },
  {
   "cell_type": "code",
   "execution_count": 3,
   "metadata": {
    "pycharm": {
     "is_executing": false
    }
   },
   "outputs": [],
   "source": [
    "def Receiver(connection):\n",
    "    \n",
    "    # Acordo de chaves DH e assinatura DSA\n",
    "    key = ecdh_ecdsa(connection)\n",
    "    \n",
    "    # Inicializa um output stream para receber o texto decifrado\n",
    "    outputs = io.BytesIO()\n",
    "    \n",
    "    # Recebe o Vetor IV\n",
    "    nonce = connection.recv()\n",
    "    \n",
    "    # Cifra ChaCha20Poly1305\n",
    "    cipher = ChaCha20Poly1305(key)\n",
    "    \n",
    "    # Operar a cifra: ler da conexão um bloco, autenticá-lo, decifrá-lo e escrever o resultado no stream de output\n",
    "    try:\n",
    "        while True:\n",
    "            try:\n",
    "                # Receber do Emitter o buffer de 32 bytes e tag MAC associada\n",
    "                buffer = connection.recv()\n",
    "\n",
    "                ciphertext = bytes(buffer)\n",
    "                decifredtext = cipher.decrypt(nonce, ciphertext, None)\n",
    "                    \n",
    "                # Colocar no stream o texto decifrado e corretamente autenticado\n",
    "                outputs.write(decifredtext)\n",
    "                break\n",
    "            except InvalidSignature as err:\n",
    "                raise Exception(\"Autenticação do ciphertext ou metadados: {}\".format(err))\n",
    "                \n",
    "        # Escrever no Jupyter Notebook os resultados colocados na stream\n",
    "        print(outputs.getvalue())\n",
    "        \n",
    "    except Exception as err:\n",
    "        print(\"Erro no receptor: {0}\".format(err))\n",
    "\n",
    "    # Fechar o stream dos outputs\n",
    "    outputs.close()\n",
    "\n",
    "    # Fechar a conexão\n",
    "    connection.close()\n",
    "    "
   ]
  },
  {
   "cell_type": "markdown",
   "metadata": {},
   "source": [
    "### Criação dos Pipes e execução dos Agentes"
   ]
  },
  {
   "cell_type": "code",
   "execution_count": 4,
   "metadata": {
    "pycharm": {
     "is_executing": false
    }
   },
   "outputs": [
    {
     "name": "stdout",
     "text": [
      "Está verificada a assinatura do parceiro.\n",
      "b'DDDDDDDDDDDDDDDDDDDDDDDDDDDDDDDD'\n",
      "Está verificada a assinatura do parceiro.\n",
      "Valid ECDH (MAC)\n",
      "Valid ECDH (MAC)\n"
     ],
     "output_type": "stream"
    }
   ],
   "source": [
    "SyncPipe(Emitter, Receiver).auto()"
   ]
  },
  {
   "cell_type": "markdown",
   "metadata": {},
   "source": [
    "## Observações Finais\n",
    "\n",
    "- A parte do acordo de chaves ECDH com assinatura ECDSA foi feita, igualmente ao exercício anterior, num ficheiro à parte\n",
    "- Maior dificuldade em entender como usar a cifra ChaCha20Poly1305, dado que se trata de uma *Stream Cipher* e estamos a lidar com uma **sessão síncrona** com uma implementação a pensar em blocos."
   ]
  },
  {
   "cell_type": "markdown",
   "metadata": {},
   "source": [
    "## Referências\n",
    "\n",
    "- Wikipedia, Elliptic-curve Diffie–Hellman [https://en.wikipedia.org/wiki/Elliptic-curve_Diffie%E2%80%93Hellman](https://en.wikipedia.org/wiki/Elliptic-curve_Diffie%E2%80%93Hellman) (Acedido a 10 março 2020)\n",
    "- Wikipedia, Elliptic Curve Digital Signature Algorithm [https://en.wikipedia.org/wiki/Elliptic_Curve_Digital_Signature_Algorithm](https://en.wikipedia.org/wiki/Elliptic_Curve_Digital_Signature_Algorithm) (Acedido a 10 março 2020)\n",
    "- Doc Sagemath, Elliptic curves [http://doc.sagemath.org/html/en/constructions/elliptic_curves.html](http://doc.sagemath.org/html/en/constructions/elliptic_curves.html) (Acedido a 10 março 2020)\n",
    "- Cryptography, Authenticated encryption [https://cryptography.io/en/latest/hazmat/primitives/aead/](https://cryptography.io/en/latest/hazmat/primitives/aead/) (Acedido a 10 março 2020)\n",
    "- Cryptography, Elliptic curve cryptography [https://cryptography.io/en/latest/hazmat/primitives/asymmetric/ec/](https://cryptography.io/en/latest/hazmat/primitives/asymmetric/ec/) (Acedido a 11 março 2020)"
   ]
  }
 ],
 "metadata": {
  "kernelspec": {
   "display_name": "Python 3",
   "language": "python",
   "name": "python3"
  },
  "language_info": {
   "codemirror_mode": {
    "name": "ipython",
    "version": 3
   },
   "file_extension": ".py",
   "mimetype": "text/x-python",
   "name": "python",
   "nbconvert_exporter": "python",
   "pygments_lexer": "ipython3",
   "version": "3.6.9"
  },
  "pycharm": {
   "stem_cell": {
    "cell_type": "raw",
    "source": [],
    "metadata": {
     "collapsed": false
    }
   }
  }
 },
 "nbformat": 4,
 "nbformat_minor": 2
}