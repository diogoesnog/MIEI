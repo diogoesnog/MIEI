{
 "cells": [
  {
   "cell_type": "markdown",
   "metadata": {},
   "source": [
    "# Sessão Síncrona entre Emitter e Receiver\n",
    "\n",
    "## Descrição do Exercício\n",
    "\n",
    "Construção de uma **sessão síncrona** de comunicação segura entre dois agentes - **Emitter** e **Receiver**.\n",
    "\n",
    "**Requisitos a ter em conta para a comunicação:**\n",
    "\n",
    "- Gerador de *nonces* (IVs)\n",
    "    - *Nonce* que nunca foi usado antes\n",
    "    - Criado aleatoriamente em cada instância da comunicação\n",
    "- Cifra Simétrica **AES**\n",
    "    - Autenticação de cada criptograma com **HMAC** e um modo seguro contra ataques aos vetores de iniciação\n",
    "- Protocolo de acordo de chaves **Diffie-Hellman**\n",
    "    - Com autenticação dos agentes através do esquema de assinaturas **DSA**\n",
    "    \n",
    "## Descrição da Implementação\n",
    "\n",
    "Perante os requisitos apresentados anteriormente teve de existir uma decisão por parte do grupo em certos aspetos, de modo a tornar toda a comunicação mais segura contra determinados ataques.\n",
    "\n",
    "**Decisões tomadas:**\n",
    "\n",
    "- Cifra Simétrica **AES** usará o modo **CFB**\n",
    "    - Uso do modo **CFB (*Cipher Feedback*)** dado que ao usarmos este modo não estamos sujeitos a ataque mesmo que o IV em si seja previsível de início. Apenas é necessário garantir que este valor IV seja único para cada utilização. Conseguimos esta singularidade pela atribuição de valores aleatórios.\n",
    "    - Assim, IVs previsíveis são seguros no modo **CFB**, desde que não se repitam e que não se permita que o invasor os escolha.\n",
    "\n",
    "\n",
    "## Resolução do Exercício"
   ]
  },
  {
   "cell_type": "code",
   "execution_count": 1,
   "metadata": {
    "pycharm": {
     "is_executing": false
    }
   },
   "outputs": [],
   "source": [
    "import os, io\n",
    "from SyncPipe import SyncPipe\n",
    "from DH_DSA import dh_dsa, myMAC\n",
    "from cryptography.hazmat.primitives.ciphers import Cipher, algorithms, modes\n",
    "from cryptography.exceptions import *\n",
    "from cryptography.hazmat.backends import default_backend"
   ]
  },
  {
   "cell_type": "markdown",
   "metadata": {},
   "source": [
    "### Definição do Agente Emitter\n",
    "Função que trata de definir o *Emitter* e seu envolvimento no processo de comunicação segura.\n",
    "\n",
    "**Descrição do processo:**\n",
    "\n",
    "- Estabelecimento do acordo de chaves *Diffie-Hellman* com assinatura *Digital Signature Algorithm*\n",
    "- Criação de uma valor IV aleatório (conforme explicado na **Descrição da Implementação**)\n",
    "- Criação da cifra AES no modo CFB\n",
    "- Criação dum HMAC para fazer em cada bloco e depois finalizar.\n",
    "\n",
    "Com todos estes valores necessários e com um canal pronto para enviar os dados, a ideia é ir lendo blocos de 32 *bytes* devidamente cifrados, enviando-os sucessivamente pelo canal juntamente com a *tag* HMAC criada para o efeito. Após se enviar todos os blocos de dados fecha-se o canal."
   ]
  },
  {
   "cell_type": "code",
   "execution_count": 2,
   "metadata": {
    "pycharm": {
     "is_executing": false
    }
   },
   "outputs": [],
   "source": [
    "tamanhoMensagem = 2**10\n",
    "\n",
    "def Emitter(connection):\n",
    "    \n",
    "    # Acordo de chaves DH e assinatura DSA\n",
    "    key = dh_dsa(connection)\n",
    "    \n",
    "    # Criação dum input stream para enviar a mensagem\n",
    "    inputs = io.BytesIO(bytes('D'*tamanhoMensagem,'utf-8'))\n",
    "    \n",
    "    # Inicialização do Vector IV aleatório\n",
    "    iv  = os.urandom(16)\n",
    "    \n",
    "    # Cifra AES com o modo CFB\n",
    "    cipher = Cipher(algorithms.AES(key), modes.CFB(iv), \n",
    "                        backend=default_backend()).encryptor()\n",
    "    \n",
    "    # HMAC\n",
    "    mac = myMAC(key)\n",
    "    \n",
    "    # Enviar o IV para o peer\n",
    "    connection.send(iv)\n",
    "    \n",
    "    # Criação dum buffer para ler os blocos de 32 bytes (256 bits)\n",
    "    buffer = bytearray(32)\n",
    "    \n",
    "    # lê, cifra e envia sucessivos blocos do input \n",
    "    try:\n",
    "        \n",
    "        # Enquanto existem blocos (while)\n",
    "        while inputs.readinto(buffer): \n",
    "            textocifrado = cipher.update(bytes(buffer))\n",
    "            mac.update(textocifrado)\n",
    "            connection.send((textocifrado, mac.copy().finalize()))         \n",
    "\n",
    "        # Envia a finalização quando acontecer o último bloco\n",
    "        connection.send((cipher.finalize(), mac.finalize()))\n",
    "        \n",
    "    except Exception as err:\n",
    "        print(\"Erro no emissor: {0}\".format(err))\n",
    "\n",
    "    # Fechar o stream para colocar inputs\n",
    "    inputs.close()\n",
    "    \n",
    "    # Fechar a conexão com o peer\n",
    "    connection.close()\n",
    "    \n",
    "    # Eliminar chave\n",
    "    key = None"
   ]
  },
  {
   "cell_type": "markdown",
   "metadata": {},
   "source": [
    "### Definição do Agente Receiver\n",
    "\n",
    "Função que trata de definir o *Receiver* e o seu envolvimento no proceso de comunicação segura.\n",
    "\n",
    "**Descrição do processo:**\n",
    "\n",
    "- Estabelecimento do acordo de chaves *Diffie-Hellman* com assinatura DSA\n",
    "- Recebimento do valor IV enviado pelo *Emitter*\n",
    "- Criação da cifra AES no modo CFB\n",
    "- Criação do valor de MAC a verificar\n",
    "\n",
    "O processo estipulado para o *Receiver* difere do agente que lhe envia a informação. Aqui é necessário verificar se a *tag* MAC criada é igual à que foi recebida, caso contrário estamos perante um erro. Com as devidas verificações pode-se ir lendo os blocos que vão surgindo por parte do *Emitter* ao mesmo tempo que decifram. Imprime-se a mensagem final no *Notebook* em si."
   ]
  },
  {
   "cell_type": "code",
   "execution_count": 3,
   "metadata": {
    "pycharm": {
     "is_executing": false
    }
   },
   "outputs": [],
   "source": [
    "def Receiver(connection):\n",
    "    \n",
    "    # Acordo de chaves DH e assinatura DSA\n",
    "    key = dh_dsa(connection)\n",
    "    \n",
    "    # Inicializa um output stream para receber o texto cifrado\n",
    "    outputs = io.BytesIO()\n",
    "    \n",
    "    # Recebe o Vetor IV\n",
    "    iv = connection.recv()\n",
    "    \n",
    "    # Cifra AES com o modo CFB\n",
    "    cipher = Cipher(algorithms.AES(key), modes.CFB(iv), \n",
    "                        backend=default_backend()).decryptor()\n",
    "    \n",
    "    # HMAC \n",
    "    mac = myMAC(key)\n",
    "    \n",
    "    # Operar a cifra: ler da conexão um bloco, autenticá-lo, decifrá-lo e escrever o resultado no stream de output\n",
    "    try:\n",
    "        \n",
    "        while True:\n",
    "            try:\n",
    "                # Receber do Emitter o buffer de 32 bytes e tag MAC associada\n",
    "                buffer, tag = connection.recv()\n",
    "                \n",
    "                ciphertext = bytes(buffer)\n",
    "                mac.update(ciphertext)\n",
    "                \n",
    "                # Verificação se a tag é igual à criada acima.\n",
    "                if tag != mac.copy().finalize():\n",
    "                    raise InvalidSignature(\"Erro no bloco intermédio\")\n",
    "                \n",
    "                # Colocar no stream o texto decifrado e corretamente autenticado\n",
    "                outputs.write(cipher.update(ciphertext))\n",
    "                \n",
    "                # Caso já não haja mais buffer (blocos)\n",
    "                if not buffer:\n",
    "                    \n",
    "                    # Verificação se a tag MAC foi finalizada\n",
    "                    if tag != mac.finalize():\n",
    "                        raise InvalidSignature(\"Erro na finalização\")                \n",
    "                    \n",
    "                    # Finalizar a cifra e escrever no stream\n",
    "                    outputs.write(cipher.finalize())\n",
    "                    break\n",
    "                    \n",
    "            except InvalidSignature as err:\n",
    "                raise Exception(\"Autenticação do ciphertext ou metadados: {}\".format(err))\n",
    "        \n",
    "        # Escrever no Jupyter Notebook os resultados colocados na stream\n",
    "        print(outputs.getvalue())\n",
    "        \n",
    "    except Exception as err:\n",
    "        print(\"Erro no receptor: {0}\".format(err))\n",
    "        \n",
    "    # Fechar o stream dos outputs\n",
    "    outputs.close()\n",
    "    \n",
    "    # Fechar a conexão\n",
    "    connection.close()\n",
    "    \n",
    "    # Eliminar chave\n",
    "    key = None"
   ]
  },
  {
   "cell_type": "markdown",
   "metadata": {},
   "source": [
    "### Criação dos Pipes e execução dos Agentes"
   ]
  },
  {
   "cell_type": "code",
   "execution_count": 4,
   "metadata": {
    "pycharm": {
     "is_executing": false
    }
   },
   "outputs": [
    {
     "name": "stdout",
     "text": [
      "Está verificada a assinatura do parceiro.\n",
      "Está verificada a assinatura do parceiro.\n",
      "Valid DH (MAC)\n",
      "Valid DH (MAC)\n",
      "b'DDDDDDDDDDDDDDDDDDDDDDDDDDDDDDDDDDDDDDDDDDDDDDDDDDDDDDDDDDDDDDDDDDDDDDDDDDDDDDDDDDDDDDDDDDDDDDDDDDDDDDDDDDDDDDDDDDDDDDDDDDDDDDDDDDDDDDDDDDDDDDDDDDDDDDDDDDDDDDDDDDDDDDDDDDDDDDDDDDDDDDDDDDDDDDDDDDDDDDDDDDDDDDDDDDDDDDDDDDDDDDDDDDDDDDDDDDDDDDDDDDDDDDDDDDDDDDDDDDDDDDDDDDDDDDDDDDDDDDDDDDDDDDDDDDDDDDDDDDDDDDDDDDDDDDDDDDDDDDDDDDDDDDDDDDDDDDDDDDDDDDDDDDDDDDDDDDDDDDDDDDDDDDDDDDDDDDDDDDDDDDDDDDDDDDDDDDDDDDDDDDDDDDDDDDDDDDDDDDDDDDDDDDDDDDDDDDDDDDDDDDDDDDDDDDDDDDDDDDDDDDDDDDDDDDDDDDDDDDDDDDDDDDDDDDDDDDDDDDDDDDDDDDDDDDDDDDDDDDDDDDDDDDDDDDDDDDDDDDDDDDDDDDDDDDDDDDDDDDDDDDDDDDDDDDDDDDDDDDDDDDDDDDDDDDDDDDDDDDDDDDDDDDDDDDDDDDDDDDDDDDDDDDDDDDDDDDDDDDDDDDDDDDDDDDDDDDDDDDDDDDDDDDDDDDDDDDDDDDDDDDDDDDDDDDDDDDDDDDDDDDDDDDDDDDDDDDDDDDDDDDDDDDDDDDDDDDDDDDDDDDDDDDDDDDDDDDDDDDDDDDDDDDDDDDDDDDDDDDDDDDDDDDDDDDDDDDDDDDDDDDDDDDDDDDDDDDDDDDDDDDDDDDDDDDDDDDDDDDDDDDDDDDDDDDDDDDDDDDDDDDDDDDDDDDDDDDDDDDDDDDDDDDDDDDDDDDDDDDDDDDDDDDDDDDDDDDDDDDDDDDDDDDDDDDDDDDDDDDDDDDDDDDDDDDDDDDDDDDDDDDDDDDDDDDDDDDDDDDDDDDDDDDDDDDDDDDDDDDDDDDDDDDDDDDDDDDDDDDDDDDDD'\n"
     ],
     "output_type": "stream"
    }
   ],
   "source": [
    "SyncPipe(Emitter, Receiver).auto()"
   ]
  },
  {
   "cell_type": "markdown",
   "metadata": {},
   "source": [
    "## Observações Finais\n",
    "\n",
    "- Fácil integração da cifra AES às entidades e o canal em si\n",
    "- Escolha de uma mensagem aleatoriamente criada pelo grupo para envio pelo canal\n",
    "    - Mensagem consideravelmente grande para garantir a existência de blocos para uma **sessão síncrona**\n",
    "- Toda a parte do acordo de chaves DH é feita num ficheiro à parte"
   ]
  },
  {
   "cell_type": "markdown",
   "metadata": {},
   "source": [
    "## Referências\n",
    "\n",
    "- Python Documentation, Process-based parallelism [https://docs.python.org/3/library/multiprocessing.html](https://docs.python.org/3/library/multiprocessing.html) (Acedido a 2 Março 2020)\n",
    "- evantotuts+, Introduction to Multiprocessing in Python [https://code.tutsplus.com/tutorials/introduction-to-multiprocessing-in-python--cms-30281](https://code.tutsplus.com/tutorials/introduction-to-multiprocessing-in-python--cms-30281) (Acedido a 5 março 2020)\n",
    "- Wikipedia, Block ciper mode of operation [https://en.wikipedia.org/wiki/Block_cipher_mode_of_operation](https://en.wikipedia.org/wiki/Block_cipher_mode_of_operation) (Acedido a 7 março 2020)\n",
    "- Cryptography, Symmetric encryption[https://cryptography.io/en/latest/hazmat/primitives/symmetric-encryption/](https://cryptography.io/en/latest/hazmat/primitives/symmetric-encryption/) (Acedido a 7 março 2020)"
   ]
  }
 ],
 "metadata": {
  "kernelspec": {
   "display_name": "Python 3",
   "language": "python",
   "name": "python3"
  },
  "language_info": {
   "codemirror_mode": {
    "name": "ipython",
    "version": 3
   },
   "file_extension": ".py",
   "mimetype": "text/x-python",
   "name": "python",
   "nbconvert_exporter": "python",
   "pygments_lexer": "ipython3",
   "version": "3.6.9"
  },
  "pycharm": {
   "stem_cell": {
    "cell_type": "raw",
    "metadata": {
     "collapsed": false
    },
    "source": []
   }
  }
 },
 "nbformat": 4,
 "nbformat_minor": 2
}