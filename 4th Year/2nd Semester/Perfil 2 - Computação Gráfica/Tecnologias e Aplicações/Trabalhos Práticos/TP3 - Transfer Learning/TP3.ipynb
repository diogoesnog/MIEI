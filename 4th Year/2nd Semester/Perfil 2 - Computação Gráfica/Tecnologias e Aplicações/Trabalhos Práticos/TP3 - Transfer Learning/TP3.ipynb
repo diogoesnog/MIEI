{
  "nbformat": 4,
  "nbformat_minor": 0,
  "metadata": {
    "accelerator": "GPU",
    "colab": {
      "name": "TP3_alt.ipynb",
      "provenance": [],
      "collapsed_sections": [],
      "toc_visible": true,
      "machine_shape": "hm"
    },
    "kernelspec": {
      "display_name": "Python 3",
      "language": "python",
      "name": "python3"
    },
    "language_info": {
      "codemirror_mode": {
        "name": "ipython",
        "version": 3
      },
      "file_extension": ".py",
      "mimetype": "text/x-python",
      "name": "python",
      "nbconvert_exporter": "python",
      "pygments_lexer": "ipython3",
      "version": "3.6.9"
    }
  },
  "cells": [
    {
      "cell_type": "markdown",
      "metadata": {
        "colab_type": "text",
        "id": "SuxB7EGnp8qh"
      },
      "source": [
        "# **Trabalho Prático 3**\n",
        "## *Transfer Learning*"
      ]
    },
    {
      "cell_type": "markdown",
      "metadata": {
        "colab_type": "text",
        "id": "rm5-BbeSqHoD"
      },
      "source": [
        "### ***Imports* Globais**\n",
        "\n",
        "<br/>\n",
        "\n",
        "Todos os *imports* são feitos aqui dado que todo o trabalho foi pensado para funcionar em modo Classe Python."
      ]
    },
    {
      "cell_type": "code",
      "metadata": {
        "colab_type": "code",
        "id": "P0vycX6e8d-X",
        "colab": {}
      },
      "source": [
        "import os\n",
        "import pathlib\n",
        "import random\n",
        "import shutil\n",
        "\n",
        "import tensorflow as tf\n",
        "from tensorflow.keras import layers, models, optimizers, metrics\n",
        "import numpy as np\n",
        "import matplotlib.pyplot as plt"
      ],
      "execution_count": 0,
      "outputs": []
    },
    {
      "cell_type": "code",
      "metadata": {
        "colab_type": "code",
        "id": "t7HF_VERBbzn",
        "colab": {}
      },
      "source": [
        "!wget -c https://nextcloudpt.duckdns.org/index.php/s/T2dEg8FZwTNzyKx/download -O train.zip\n",
        "!unzip -n train.zip -d ."
      ],
      "execution_count": 0,
      "outputs": []
    },
    {
      "cell_type": "markdown",
      "metadata": {
        "colab_type": "text",
        "id": "ffHOMaWw6_M3"
      },
      "source": [
        "### **Definição da Classe Python catsAndDogs e de todos os seus métodos**\n",
        "\n",
        "<br/>\n",
        "\n",
        "Classe que terá todas as definições necessárias para criar, treinar e posteriormente avaliar os resultados da rede.\n",
        "\n",
        "Para este Trabalho Prático escolhou-se o *deep learning model* NASNetMobile, dado que notamos que é o que apresenta melhores resultados em termos de *accuracy*. Esta rede contém os pesos já treinados com a imagenet.\n",
        "\n",
        "**Com o modelo escolhido, a ideia passou por:**\n",
        "\n",
        "**1. Efetuar 3 treinos distintos baseados nos três tipos de redes/modelos seguintes:**\n",
        "- Treinar a rede NASNetMobile sem usar os pesos da imagenet;\n",
        "- Treinar a rede NASNetMobile a usar os pesos da imagenet;\n",
        "- Treinar a rede NASNetMobile a usar os pesos da imagenet mas congelando os *layers* convolucionais.\n",
        "\n",
        "**2. Usar três tipos de *datasets* de treino para cada um destes. O *dataset* de teste mantém-se sempre com 1000 imagens para os *cats* e 1000 imagens para os *dogs*:**\n",
        "- *Dataset* de treino com 23000 imagens\n",
        "- *Dataset* de treino com 2500 imagens\n",
        "- *Dataset* de treino com 250 imagens"
      ]
    },
    {
      "cell_type": "code",
      "metadata": {
        "colab_type": "code",
        "id": "BXnzJ6668KDZ",
        "scrolled": true,
        "colab": {}
      },
      "source": [
        "class catsAndDogs:\n",
        "\n",
        "  # Método que define/inicializa todas as variáveis globais e usadas ao longo de toda a Classe.\n",
        "  def __init__(self):\n",
        "\n",
        "    self.NCLASSES = 2\n",
        "    self.HEIGHT = 224\n",
        "    self.WIDTH = 224\n",
        "    self.NUM_CHANNELS = 3\n",
        "    self.BATCH_SIZE = 32\n",
        "    self.AUTOTUNE = None\n",
        "\n",
        "    self.baseModel1 = self.baseModel2 = self.baseModel3 = None\n",
        "\n",
        "    self.model1 = self.model2 = self.model3 = None\n",
        "\n",
        "    self.classNames = None\n",
        "\n",
        "    self.dataset = self.datasetHome = None\n",
        "\n",
        "    self.trainDataset = self.validationDataset = self.testDataset = None\n",
        "\n",
        "    self.trainDatasetSize = self.validationDatasetSize = self.dataset_length = None\n",
        "\n",
        "    self.historyModel1 = {}\n",
        "    self.historyModel2 = {}\n",
        "    self.historyModel3 = {}\n",
        "\n",
        "  # Método que define os três diferentes modelos/redes para treino.\n",
        "  def loadModel(self):\n",
        "\n",
        "    # Retira-se a cabeça da rede ao defenir o \"include_top\" como False.\n",
        "    self.baseModel1 = tf.keras.applications.nasnet.NASNetMobile(include_top=False, weights=None, input_shape=(self.HEIGHT, self.WIDTH, self.NUM_CHANNELS))\n",
        "    self.baseModel2 = tf.keras.applications.nasnet.NASNetMobile(include_top=False, weights='imagenet', input_shape=(self.HEIGHT, self.WIDTH, self.NUM_CHANNELS))\n",
        "    self.baseModel3 = tf.keras.applications.nasnet.NASNetMobile(include_top=False, weights='imagenet', input_shape=(self.HEIGHT, self.WIDTH, self.NUM_CHANNELS))\n",
        "\n",
        "    self.baseModel1.trainable = True\n",
        "    self.baseModel2.trainable = True\n",
        "    self.baseModel3.trainable = False\n",
        "\n",
        "  # Método que manipula as camadas dos três diferentes modelos e aplica outras definições.\n",
        "  def changeLayers(self):\n",
        "\n",
        "    x1 = self.baseModel1.output\n",
        "    x1 = layers.GlobalAveragePooling2D()(x1)\n",
        "    x1 = layers.Dense(4096, activation='relu')(x1)\n",
        "    x1 = layers.Dense(2, activation='softmax')(x1)\n",
        "\n",
        "    x2 = self.baseModel2.output\n",
        "    x2 = layers.GlobalAveragePooling2D()(x2)\n",
        "    x2 = layers.Dense(4096, activation='relu')(x2)\n",
        "    x2 = layers.Dense(2, activation='softmax')(x2)\n",
        "\n",
        "    x3 = self.baseModel3.output\n",
        "    x3 = layers.GlobalAveragePooling2D()(x3)\n",
        "    x3 = layers.Dense(4096, activation='relu')(x3)\n",
        "    x3 = layers.Dense(2, activation='softmax')(x3)\n",
        "\n",
        "    self.model1 = models.Model(inputs=self.baseModel1.input, outputs=x1)\n",
        "    self.model2 = models.Model(inputs=self.baseModel2.input, outputs=x2)\n",
        "    self.model3 = models.Model(inputs=self.baseModel3.input, outputs=x3)\n",
        "\n",
        "  # Método que obtém o label.\n",
        "  def getLabel(self, file_path):\n",
        "\n",
        "    # Convert the path to a list of path components.\n",
        "    parts = tf.strings.split(file_path, os.path.sep)\n",
        "\n",
        "    # The second to last is the class-directory.\n",
        "    return parts[-2] == self.classNames\n",
        "\n",
        "  # Método que faz o decode da imagem.\n",
        "  def decodeImage(self, img):\n",
        "\n",
        "    # Convert the compressed string to a 3D uint8 tensor.\n",
        "    img = tf.image.decode_png(img, channels=3)\n",
        "\n",
        "    # Use `convert_image_dtype` to convert to floats in the [0,1] range.\n",
        "    img = tf.image.convert_image_dtype(img, tf.float32)\n",
        "\n",
        "    # Resize the image to the desired size.\n",
        "    return tf.image.resize(img, [self.WIDTH, self.HEIGHT])\n",
        "\n",
        "  # Método que obtém os bytes e o label.\n",
        "  def getBytesAndLabel(self, file_path):\n",
        "\n",
        "    label = self.getLabel(file_path)\n",
        "\n",
        "    # Load the raw data from the file as a string.\n",
        "    img = tf.io.read_file(file_path)\n",
        "    img = self.decodeImage(img)\n",
        "\n",
        "    return img, label\n",
        "\n",
        "  # Método que cria as folders de Treino e Teste prontas a serem povoadas.\n",
        "  def createFoldersTrainTest(self):\n",
        "\n",
        "    # Create Directories\n",
        "    self.datasetHome = 'dataset_dogs_vs_cats/'\n",
        "    subdirs = ['train/', 'test/']\n",
        "\n",
        "    for subdir in subdirs:\n",
        "        # Create Label Subdirectories\n",
        "        labeldirs = ['dogs/', 'cats/']\n",
        "\n",
        "        for labldir in labeldirs:\n",
        "            newdir = self.datasetHome + subdir + labldir\n",
        "            os.makedirs(newdir, exist_ok=True)\n",
        "\n",
        "  # Método que limpa a pasta de Treino por completo.\n",
        "  def clearTrainFolder(self):\n",
        "\n",
        "    for file in os.listdir(self.datasetHome + \"train/cats\"):\n",
        "        os.remove(self.datasetHome + \"train/cats/\" + file)\n",
        "    for file in os.listdir(self.datasetHome + \"/train/dogs\"):\n",
        "        os.remove(self.datasetHome + \"train/dogs/\" + file)\n",
        "\n",
        "  # Método que faz o povoamento das pastas de Treino e Teste.\n",
        "  # Coloca obrigatoriamente 1000 em cada subpasta da pasta de Teste.\n",
        "  # As restantes são mandadas para a pasta de Treino.\n",
        "  def fillFolders(self, datasetCount):\n",
        "      \n",
        "    # Seed Random Number Generator.\n",
        "    random.seed(1)\n",
        "\n",
        "    # Copy Training Dataset Images into Subdirectories.\n",
        "    src_directory = 'train/'\n",
        "\n",
        "    currTestCats = currTestDogs = currTrainCats = currTrainDogs = 0\n",
        "\n",
        "    for file in os.listdir(src_directory):\n",
        "\n",
        "        src = src_directory + '/' + file\n",
        "\n",
        "        if file.startswith('cat'):\n",
        "\n",
        "            if currTestCats < 1000:\n",
        "                dst_dir = 'test/'\n",
        "                currTestCats += 1\n",
        "\n",
        "            elif currTrainCats < int(datasetCount / 2):\n",
        "                dst_dir = 'train/'\n",
        "                currTrainCats += 1\n",
        "\n",
        "            else:\n",
        "                continue\n",
        "\n",
        "            dst = self.datasetHome + dst_dir + 'cats/'  + file\n",
        "            shutil.copyfile(src, dst)\n",
        "            \n",
        "        elif file.startswith('dog'):\n",
        "\n",
        "            if currTestDogs < 1000:\n",
        "                dst_dir = 'test/'\n",
        "                currTestDogs += 1\n",
        "\n",
        "            elif currTrainDogs < int(datasetCount / 2):\n",
        "                dst_dir = 'train/'\n",
        "                currTrainDogs += 1\n",
        "\n",
        "            else:\n",
        "                continue\n",
        "\n",
        "            dst = self.datasetHome + dst_dir + 'dogs/'  + file\n",
        "            shutil.copyfile(src, dst)\n",
        "\n",
        "  # Método que define o dataset de Treino.\n",
        "  def defineDatasetTrain(self):\n",
        "\n",
        "    data_dir = pathlib.Path(self.datasetHome + 'train/')\n",
        "\n",
        "    self.classNames = np.array(os.listdir(data_dir))\n",
        "    self.classNames\n",
        "\n",
        "    self.AUTOTUNE = tf.data.experimental.AUTOTUNE\n",
        "\n",
        "    listset = tf.data.Dataset.list_files(self.datasetHome + \"train/*/*.jpg\")\n",
        "    self.dataset = listset.map(self.getBytesAndLabel, num_parallel_calls = self.AUTOTUNE)\n",
        "\n",
        "    self.dataset_length = [i for i,_ in enumerate(self.dataset)][-1] + 1\n",
        "    print(\"Total images in Train Dataset: \", self.dataset_length)\n",
        "\n",
        "  # Método que faz o split do dataset de Treino, criando o de Treino e Validação.\n",
        "  def splitDatasetTrainValidation(self):\n",
        "\n",
        "    self.dataset = self.dataset.prefetch(buffer_size=self.AUTOTUNE)\n",
        "    #self.dataset = self.dataset.batch(batch_size=self.BATCH_SIZE)\n",
        "    self.dataset = self.dataset.repeat()\n",
        "\n",
        "    self.trainDatasetSize = int(self.dataset_length * 0.8)\n",
        "    self.validationDatasetSize = int(self.dataset_length * 0.2)\n",
        "\n",
        "    self.trainDataset = self.dataset.take(self.trainDatasetSize)\n",
        "    self.trainDataset = self.trainDataset.shuffle(buffer_size = self.trainDatasetSize)\n",
        "    self.trainDataset = self.trainDataset.batch(batch_size = self.BATCH_SIZE)\n",
        "    self.trainDataset = self.trainDataset.repeat();\n",
        "    self.trainDataset.class_mode = 'binary'\n",
        "\n",
        "    self.validationDataset = self.dataset.skip(self.trainDatasetSize)\n",
        "    self.validationDataset = self.validationDataset.batch(batch_size = self.BATCH_SIZE)\n",
        "    self.validationDataset = self.validationDataset.repeat();\n",
        "    self.validationDataset.class_mode = 'binary'\n",
        "\n",
        "  # Método que define o dataset de Teste.\n",
        "  def defineDatasetTest(self):\n",
        "\n",
        "    self.testDataset = tf.data.Dataset.list_files(self.datasetHome + \"test/*/*.jpg\")\n",
        "    self.testDataset = self.testDataset.map(self.getBytesAndLabel, num_parallel_calls = self.AUTOTUNE)\n",
        "\n",
        "    testDataset_length = [i for i,_ in enumerate(self.testDataset)][-1] + 1\n",
        "    print(\"Total images in Test Dataset: \", testDataset_length)\n",
        "\n",
        "    self.testDataset = self.testDataset.batch(batch_size = self.BATCH_SIZE)\n",
        "    self.testDataset.class_mode = 'binary'\n",
        "        \n",
        "  # Método que treina os três modelos/redes de uma vez.\n",
        "  # Este método é executado por cada dataset diferente.\n",
        "  def trainModel(self):\n",
        "\n",
        "    self.model1.compile(optimizer='adam', loss='categorical_crossentropy', metrics=[metrics.categorical_accuracy])\n",
        "    self.historyModel1[self.dataset_length] = self.model1.fit(self.trainDataset, epochs=5, steps_per_epoch=self.trainDatasetSize/self.BATCH_SIZE, validation_data = self.validationDataset, validation_steps= self.validationDatasetSize/self.BATCH_SIZE)\n",
        "\n",
        "    self.model2.compile(optimizer='adam', loss='categorical_crossentropy', metrics=[metrics.categorical_accuracy])\n",
        "    self.historyModel2[self.dataset_length] = self.model2.fit(self.trainDataset, epochs=5, steps_per_epoch=self.trainDatasetSize/self.BATCH_SIZE, validation_data = self.validationDataset, validation_steps= self.validationDatasetSize/self.BATCH_SIZE)\n",
        "\n",
        "    self.model3.compile(optimizer='adam', loss='categorical_crossentropy', metrics=[metrics.categorical_accuracy])\n",
        "    self.historyModel3[self.dataset_length] = self.model3.fit(self.trainDataset, epochs=5, steps_per_epoch=self.trainDatasetSize/self.BATCH_SIZE, validation_data = self.validationDataset, validation_steps= self.validationDatasetSize/self.BATCH_SIZE)\n",
        "\n",
        "  # Método que faz o evalute do dataset de Teste.\n",
        "  # Este método é executado por cada dataset diferente.\n",
        "  def evaluateTest(self):\n",
        "\n",
        "    self.model1.evaluate(self.testDataset)\n",
        "    self.model2.evaluate(self.testDataset)\n",
        "    self.model3.evaluate(self.testDataset)\n",
        "\n",
        "  # Método que apresenta os resultados em modo plot.\n",
        "  # Este método é executado por cada dataset diferente.\n",
        "  def plotsResults(self):\n",
        "\n",
        "    print(self.historyModel1[self.dataset_length].history.keys())\n",
        "    plt.plot(self.historyModel1[self.dataset_length].history['categorical_accuracy'])\n",
        "    plt.plot(self.historyModel1[self.dataset_length].history['val_categorical_accuracy'])\n",
        "    plt.title('Model 1 Accuracy')\n",
        "    plt.ylabel('accuracy')\n",
        "    plt.xlabel('epoch')\n",
        "    plt.legend(['train', 'val'], loc='upper left')\n",
        "    plt.show()\n",
        "\n",
        "    print(self.historyModel2[self.dataset_length].history.keys())\n",
        "    plt.plot(self.historyModel2[self.dataset_length].history['categorical_accuracy'])\n",
        "    plt.plot(self.historyModel2[self.dataset_length].history['val_categorical_accuracy'])\n",
        "    plt.title('Model 2 Accuracy')\n",
        "    plt.ylabel('accuracy')\n",
        "    plt.xlabel('epoch')\n",
        "    plt.legend(['train', 'val'], loc='upper left')\n",
        "    plt.show()\n",
        "\n",
        "    print(self.historyModel3[self.dataset_length].history.keys())\n",
        "    plt.plot(self.historyModel3[self.dataset_length].history['categorical_accuracy'])\n",
        "    plt.plot(self.historyModel3[self.dataset_length].history['val_categorical_accuracy'])\n",
        "    plt.title('Model 3 Accuracy')\n",
        "    plt.ylabel('accuracy')\n",
        "    plt.xlabel('epoch')\n",
        "    plt.legend(['train', 'val'], loc='upper left')\n",
        "    plt.show()"
      ],
      "execution_count": 0,
      "outputs": []
    },
    {
      "cell_type": "markdown",
      "metadata": {
        "colab_type": "text",
        "id": "XytEn789B-oI"
      },
      "source": [
        "## **Criação da Classe Python e execução de todos os passos para criar, treinar e avaliar os três tipos de modelos/rede para cada *dataset***\n",
        "\n",
        "<br/>\n",
        "\n",
        "### Criação de uma instância da Classe Python."
      ]
    },
    {
      "cell_type": "code",
      "metadata": {
        "colab_type": "code",
        "id": "GAfYAtvp_jXE",
        "colab": {}
      },
      "source": [
        "myCatsAndDogs = catsAndDogs()"
      ],
      "execution_count": 0,
      "outputs": []
    },
    {
      "cell_type": "markdown",
      "metadata": {
        "colab_type": "text",
        "id": "oY0sY90uCdjK"
      },
      "source": [
        "### Criação/load dos três tipos de modelos a ser usados."
      ]
    },
    {
      "cell_type": "code",
      "metadata": {
        "colab_type": "code",
        "id": "5XSGc0r0BFEk",
        "outputId": "e24c369e-84aa-489b-9e21-3b779b796ace",
        "colab": {
          "base_uri": "https://localhost:8080/",
          "height": 51
        }
      },
      "source": [
        "myCatsAndDogs.loadModel()"
      ],
      "execution_count": 0,
      "outputs": [
        {
          "output_type": "stream",
          "text": [
            "Downloading data from https://storage.googleapis.com/tensorflow/keras-applications/nasnet/NASNet-mobile-no-top.h5\n",
            "19996672/19993432 [==============================] - 0s 0us/step\n"
          ],
          "name": "stdout"
        }
      ]
    },
    {
      "cell_type": "markdown",
      "metadata": {
        "colab_type": "text",
        "id": "Si2rUdudCl17"
      },
      "source": [
        "### Aplicar as manipulações necessárias às camadas de cada uma destas três redes."
      ]
    },
    {
      "cell_type": "code",
      "metadata": {
        "colab_type": "code",
        "id": "pK0Qqu66BEMP",
        "colab": {}
      },
      "source": [
        "myCatsAndDogs.changeLayers()"
      ],
      "execution_count": 0,
      "outputs": []
    },
    {
      "cell_type": "markdown",
      "metadata": {
        "colab_type": "text",
        "id": "ZhWnBm-AC0zF"
      },
      "source": [
        "### Criar as pastas necessárias para os *dataset* de Treino e Teste."
      ]
    },
    {
      "cell_type": "code",
      "metadata": {
        "colab_type": "code",
        "id": "9GCjr0-QdIqz",
        "colab": {}
      },
      "source": [
        "myCatsAndDogs.createFoldersTrainTest()"
      ],
      "execution_count": 0,
      "outputs": []
    },
    {
      "cell_type": "markdown",
      "metadata": {
        "colab_type": "text",
        "id": "6g9fp480C91c"
      },
      "source": [
        "### Começar os processos de Treino e Teste."
      ]
    },
    {
      "cell_type": "markdown",
      "metadata": {
        "id": "B3PVgwpiibfC",
        "colab_type": "text"
      },
      "source": [
        "#### 1. *Dataset* com 23000 imagens\n",
        "\n",
        "- Povoar as pastas dos *datasets* de Treino e Teste;\n",
        "- Fazer o *split* do Treino e da Validação;\n",
        "- Treinar os três modelos para este *dataset*;\n",
        "- Fazer o *evalute* do *dataset* de Teste;\n",
        "- Obter os resultados dos *plots* para cada um desses modelos."
      ]
    },
    {
      "cell_type": "code",
      "metadata": {
        "colab_type": "code",
        "id": "qEMPmVV2dZ3v",
        "outputId": "25955df9-3174-4107-87d6-fb6c11b9140b",
        "colab": {
          "base_uri": "https://localhost:8080/",
          "height": 51
        }
      },
      "source": [
        "myCatsAndDogs.fillFolders(23000)\n",
        "myCatsAndDogs.defineDatasetTrain()\n",
        "myCatsAndDogs.splitDatasetTrainValidation()\n",
        "myCatsAndDogs.defineDatasetTest()"
      ],
      "execution_count": 0,
      "outputs": [
        {
          "output_type": "stream",
          "text": [
            "Total images in Train Dataset:  23000\n",
            "Total images in Test Dataset:  2000\n"
          ],
          "name": "stdout"
        }
      ]
    },
    {
      "cell_type": "code",
      "metadata": {
        "colab_type": "code",
        "id": "7Cu-r71sdntk",
        "outputId": "3dc0256c-b306-4a60-e54f-83254f37cb8a",
        "colab": {
          "base_uri": "https://localhost:8080/",
          "height": 527
        }
      },
      "source": [
        "myCatsAndDogs.trainModel()"
      ],
      "execution_count": 0,
      "outputs": [
        {
          "output_type": "stream",
          "text": [
            "Epoch 1/5\n",
            "575/575 [==============================] - 214s 372ms/step - loss: 0.6567 - categorical_accuracy: 0.6539 - val_loss: 3.9178 - val_categorical_accuracy: 0.5080\n",
            "Epoch 2/5\n",
            "575/575 [==============================] - 210s 366ms/step - loss: 0.4710 - categorical_accuracy: 0.7753 - val_loss: 3.0649 - val_categorical_accuracy: 0.5197\n",
            "Epoch 3/5\n",
            "575/575 [==============================] - 210s 366ms/step - loss: 0.3656 - categorical_accuracy: 0.8373 - val_loss: 1.9261 - val_categorical_accuracy: 0.5974\n",
            "Epoch 4/5\n",
            "575/575 [==============================] - 210s 365ms/step - loss: 0.2874 - categorical_accuracy: 0.8760 - val_loss: 2.7287 - val_categorical_accuracy: 0.5388\n",
            "Epoch 5/5\n",
            "575/575 [==============================] - 211s 366ms/step - loss: 0.2365 - categorical_accuracy: 0.9022 - val_loss: 4.0594 - val_categorical_accuracy: 0.5237\n",
            "Epoch 1/5\n",
            "575/575 [==============================] - 215s 374ms/step - loss: 0.1101 - categorical_accuracy: 0.9608 - val_loss: 1.5448 - val_categorical_accuracy: 0.5382\n",
            "Epoch 2/5\n",
            "575/575 [==============================] - 211s 367ms/step - loss: 0.0660 - categorical_accuracy: 0.9754 - val_loss: 1.5075 - val_categorical_accuracy: 0.6771\n",
            "Epoch 3/5\n",
            "575/575 [==============================] - 210s 365ms/step - loss: 0.0551 - categorical_accuracy: 0.9802 - val_loss: 2.3423 - val_categorical_accuracy: 0.8132\n",
            "Epoch 4/5\n",
            "575/575 [==============================] - 211s 367ms/step - loss: 0.0456 - categorical_accuracy: 0.9828 - val_loss: 1.4469 - val_categorical_accuracy: 0.7891\n",
            "Epoch 5/5\n",
            "575/575 [==============================] - 211s 367ms/step - loss: 0.0462 - categorical_accuracy: 0.9833 - val_loss: 2.9167 - val_categorical_accuracy: 0.8257\n",
            "Epoch 1/5\n",
            "575/575 [==============================] - 67s 117ms/step - loss: 0.0557 - categorical_accuracy: 0.9826 - val_loss: 0.0232 - val_categorical_accuracy: 0.9922\n",
            "Epoch 2/5\n",
            "575/575 [==============================] - 63s 109ms/step - loss: 0.0362 - categorical_accuracy: 0.9876 - val_loss: 0.0318 - val_categorical_accuracy: 0.9894\n",
            "Epoch 3/5\n",
            "575/575 [==============================] - 63s 109ms/step - loss: 0.0304 - categorical_accuracy: 0.9896 - val_loss: 0.0277 - val_categorical_accuracy: 0.9913\n",
            "Epoch 4/5\n",
            "575/575 [==============================] - 63s 109ms/step - loss: 0.0279 - categorical_accuracy: 0.9903 - val_loss: 0.0210 - val_categorical_accuracy: 0.9911\n",
            "Epoch 5/5\n",
            "575/575 [==============================] - 63s 109ms/step - loss: 0.0225 - categorical_accuracy: 0.9920 - val_loss: 0.0196 - val_categorical_accuracy: 0.9915\n"
          ],
          "name": "stdout"
        }
      ]
    },
    {
      "cell_type": "code",
      "metadata": {
        "colab_type": "code",
        "id": "IpQgZsuLicgP",
        "outputId": "836143d5-5f56-41a1-986a-4f04945200c5",
        "colab": {
          "base_uri": "https://localhost:8080/",
          "height": 68
        }
      },
      "source": [
        "myCatsAndDogs.evaluateTest()"
      ],
      "execution_count": 0,
      "outputs": [
        {
          "output_type": "stream",
          "text": [
            "63/63 [==============================] - 3s 52ms/step - loss: 4.0586 - categorical_accuracy: 0.5265\n",
            "63/63 [==============================] - 3s 51ms/step - loss: 3.1753 - categorical_accuracy: 0.8265\n",
            "63/63 [==============================] - 3s 51ms/step - loss: 0.0478 - categorical_accuracy: 0.9835\n"
          ],
          "name": "stdout"
        }
      ]
    },
    {
      "cell_type": "code",
      "metadata": {
        "colab_type": "code",
        "id": "UcSYtaDJhKKZ",
        "outputId": "fb2c1295-7e93-476b-bca3-0593eb81a2f4",
        "colab": {
          "base_uri": "https://localhost:8080/",
          "height": 902
        }
      },
      "source": [
        "myCatsAndDogs.plotsResults()"
      ],
      "execution_count": 0,
      "outputs": [
        {
          "output_type": "stream",
          "text": [
            "dict_keys(['loss', 'categorical_accuracy', 'val_loss', 'val_categorical_accuracy'])\n"
          ],
          "name": "stdout"
        },
        {
          "output_type": "display_data",
          "data": {
            "image/png": "[encoded data removed]",
            "text/plain": [
              "<Figure size 432x288 with 1 Axes>"
            ]
          },
          "metadata": {
            "tags": [],
            "needs_background": "light"
          }
        },
        {
          "output_type": "stream",
          "text": [
            "dict_keys(['loss', 'categorical_accuracy', 'val_loss', 'val_categorical_accuracy'])\n"
          ],
          "name": "stdout"
        },
        {
          "output_type": "display_data",
          "data": {
            "image/png": "[encoded data removed]",
            "text/plain": [
              "<Figure size 432x288 with 1 Axes>"
            ]
          },
          "metadata": {
            "tags": [],
            "needs_background": "light"
          }
        },
        {
          "output_type": "stream",
          "text": [
            "dict_keys(['loss', 'categorical_accuracy', 'val_loss', 'val_categorical_accuracy'])\n"
          ],
          "name": "stdout"
        },
        {
          "output_type": "display_data",
          "data": {
            "image/png": "[encoded data removed]",
            "text/plain": [
              "<Figure size 432x288 with 1 Axes>"
            ]
          },
          "metadata": {
            "tags": [],
            "needs_background": "light"
          }
        }
      ]
    },
    {
      "cell_type": "markdown",
      "metadata": {
        "colab_type": "text",
        "id": "Wc6N4FLYhoSW"
      },
      "source": [
        "#### 2. *Dataset* com 2500 imagens\n",
        "\n",
        "- Fazer o *clean* da pasta de Treino para evitar ter sempre 23000 imagens;\n",
        "- Povoar as pastas dos *datasets* de Treino. O de Teste já foi definido e é igual para este passo;\n",
        "- Fazer o *split* do Treino e da Validação;\n",
        "- Treinar os três modelos para este *dataset*;\n",
        "- Fazer o *evalute* do *dataset* de Teste;\n",
        "- Obter os resultados dos *plots* para cada um desses modelos."
      ]
    },
    {
      "cell_type": "code",
      "metadata": {
        "colab_type": "code",
        "id": "jU3ml1TahpRz",
        "outputId": "9d5e3652-c6d0-43ec-9e68-6cfa33e0836d",
        "colab": {
          "base_uri": "https://localhost:8080/",
          "height": 34
        }
      },
      "source": [
        "myCatsAndDogs.clearTrainFolder()\n",
        "myCatsAndDogs.fillFolders(2500)\n",
        "myCatsAndDogs.defineDatasetTrain()\n",
        "myCatsAndDogs.splitDatasetTrainValidation()"
      ],
      "execution_count": 0,
      "outputs": [
        {
          "output_type": "stream",
          "text": [
            "Total images in Train Dataset:  2500\n"
          ],
          "name": "stdout"
        }
      ]
    },
    {
      "cell_type": "code",
      "metadata": {
        "colab_type": "code",
        "id": "lTY-BH_4htLM",
        "outputId": "8ee4ae96-90d1-41d2-fb2d-fbdbb35303b5",
        "colab": {
          "base_uri": "https://localhost:8080/",
          "height": 510
        }
      },
      "source": [
        "myCatsAndDogs.trainModel()"
      ],
      "execution_count": 0,
      "outputs": [
        {
          "output_type": "stream",
          "text": [
            "63/62 [==============================] - 26s 417ms/step - loss: 0.2354 - categorical_accuracy: 0.8975 - val_loss: 2.6756 - val_categorical_accuracy: 0.5684\n",
            "Epoch 2/5\n",
            "63/62 [==============================] - 23s 358ms/step - loss: 0.1562 - categorical_accuracy: 0.9385 - val_loss: 3.0810 - val_categorical_accuracy: 0.5059\n",
            "Epoch 3/5\n",
            "63/62 [==============================] - 23s 360ms/step - loss: 0.1387 - categorical_accuracy: 0.9445 - val_loss: 4.1343 - val_categorical_accuracy: 0.5664\n",
            "Epoch 4/5\n",
            "63/62 [==============================] - 23s 358ms/step - loss: 0.1001 - categorical_accuracy: 0.9655 - val_loss: 3.8875 - val_categorical_accuracy: 0.5840\n",
            "Epoch 5/5\n",
            "63/62 [==============================] - 23s 359ms/step - loss: 0.1062 - categorical_accuracy: 0.9605 - val_loss: 4.1226 - val_categorical_accuracy: 0.5605\n",
            "Epoch 1/5\n",
            "63/62 [==============================] - 26s 415ms/step - loss: 0.0451 - categorical_accuracy: 0.9815 - val_loss: 340.6736 - val_categorical_accuracy: 0.4785\n",
            "Epoch 2/5\n",
            "63/62 [==============================] - 23s 361ms/step - loss: 0.0315 - categorical_accuracy: 0.9920 - val_loss: 656.7241 - val_categorical_accuracy: 0.5020\n",
            "Epoch 3/5\n",
            "63/62 [==============================] - 23s 357ms/step - loss: 0.0376 - categorical_accuracy: 0.9910 - val_loss: 354.9227 - val_categorical_accuracy: 0.5527\n",
            "Epoch 4/5\n",
            "63/62 [==============================] - 23s 359ms/step - loss: 0.0436 - categorical_accuracy: 0.9855 - val_loss: 37.2562 - val_categorical_accuracy: 0.9238\n",
            "Epoch 5/5\n",
            "63/62 [==============================] - 23s 358ms/step - loss: 0.0262 - categorical_accuracy: 0.9915 - val_loss: 80.1128 - val_categorical_accuracy: 0.7422\n",
            "Epoch 1/5\n",
            "63/62 [==============================] - 10s 165ms/step - loss: 0.0188 - categorical_accuracy: 0.9945 - val_loss: 0.0227 - val_categorical_accuracy: 0.9941\n",
            "Epoch 2/5\n",
            "63/62 [==============================] - 7s 107ms/step - loss: 0.0124 - categorical_accuracy: 0.9950 - val_loss: 0.0040 - val_categorical_accuracy: 0.9980\n",
            "Epoch 3/5\n",
            "63/62 [==============================] - 7s 107ms/step - loss: 0.0096 - categorical_accuracy: 0.9960 - val_loss: 0.0279 - val_categorical_accuracy: 0.9941\n",
            "Epoch 4/5\n",
            "63/62 [==============================] - 7s 107ms/step - loss: 0.0062 - categorical_accuracy: 0.9980 - val_loss: 4.6351e-04 - val_categorical_accuracy: 1.0000\n",
            "Epoch 5/5\n",
            "63/62 [==============================] - 7s 107ms/step - loss: 0.0071 - categorical_accuracy: 0.9985 - val_loss: 0.0026 - val_categorical_accuracy: 0.9980\n"
          ],
          "name": "stdout"
        }
      ]
    },
    {
      "cell_type": "code",
      "metadata": {
        "colab_type": "code",
        "id": "Itc6_ZmXn4VK",
        "outputId": "c3e3c3db-a976-4b4a-93c4-53bc356f8b7a",
        "colab": {
          "base_uri": "https://localhost:8080/",
          "height": 68
        }
      },
      "source": [
        "myCatsAndDogs.evaluateTest()"
      ],
      "execution_count": 0,
      "outputs": [
        {
          "output_type": "stream",
          "text": [
            "63/63 [==============================] - 3s 50ms/step - loss: 3.7448 - categorical_accuracy: 0.5925\n",
            "63/63 [==============================] - 3s 51ms/step - loss: 91.1908 - categorical_accuracy: 0.7260\n",
            "63/63 [==============================] - 3s 51ms/step - loss: 0.0766 - categorical_accuracy: 0.9855\n"
          ],
          "name": "stdout"
        }
      ]
    },
    {
      "cell_type": "code",
      "metadata": {
        "colab_type": "code",
        "id": "jaxG-CUkhueZ",
        "outputId": "f455ff4f-c4da-4d8f-dc89-efe604d8360c",
        "colab": {
          "base_uri": "https://localhost:8080/",
          "height": 902
        }
      },
      "source": [
        "myCatsAndDogs.plotsResults()"
      ],
      "execution_count": 0,
      "outputs": [
        {
          "output_type": "stream",
          "text": [
            "dict_keys(['loss', 'categorical_accuracy', 'val_loss', 'val_categorical_accuracy'])\n"
          ],
          "name": "stdout"
        },
        {
          "output_type": "display_data",
          "data": {
            "image/png": "[encoded data removed]",
            "text/plain": [
              "<Figure size 432x288 with 1 Axes>"
            ]
          },
          "metadata": {
            "tags": [],
            "needs_background": "light"
          }
        },
        {
          "output_type": "stream",
          "text": [
            "dict_keys(['loss', 'categorical_accuracy', 'val_loss', 'val_categorical_accuracy'])\n"
          ],
          "name": "stdout"
        },
        {
          "output_type": "display_data",
          "data": {
            "image/png": "[encoded data removed]",
            "text/plain": [
              "<Figure size 432x288 with 1 Axes>"
            ]
          },
          "metadata": {
            "tags": [],
            "needs_background": "light"
          }
        },
        {
          "output_type": "stream",
          "text": [
            "dict_keys(['loss', 'categorical_accuracy', 'val_loss', 'val_categorical_accuracy'])\n"
          ],
          "name": "stdout"
        },
        {
          "output_type": "display_data",
          "data": {
            "image/png": "[encoded data removed]",
            "text/plain": [
              "<Figure size 432x288 with 1 Axes>"
            ]
          },
          "metadata": {
            "tags": [],
            "needs_background": "light"
          }
        }
      ]
    },
    {
      "cell_type": "markdown",
      "metadata": {
        "colab_type": "text",
        "id": "VUq3OtAXhu7S"
      },
      "source": [
        "#### 3. *Dataset* com 250 imagens\n",
        "\n",
        "- Fazer o *clean* da pasta de Treino para evitar ter sempre 23000 imagens;\n",
        "- Povoar as pastas dos *datasets* de Treino. O de Teste já foi definido e é igual para este passo;\n",
        "- Fazer o *split* do Treino e da Validação;\n",
        "- Treinar os três modelos para este *dataset*;\n",
        "- Fazer o *evalute* do *dataset* de Teste;\n",
        "- Obter os resultados dos *plots* para cada um desses modelos."
      ]
    },
    {
      "cell_type": "code",
      "metadata": {
        "colab_type": "code",
        "id": "GQxpDMSwhvnd",
        "outputId": "1d98bc7e-45a0-4bb4-abf3-770f679d001f",
        "colab": {
          "base_uri": "https://localhost:8080/",
          "height": 34
        }
      },
      "source": [
        "myCatsAndDogs.clearTrainFolder()\n",
        "myCatsAndDogs.fillFolders(250)\n",
        "myCatsAndDogs.defineDatasetTrain()\n",
        "myCatsAndDogs.splitDatasetTrainValidation()"
      ],
      "execution_count": 0,
      "outputs": [
        {
          "output_type": "stream",
          "text": [
            "Total images in Train Dataset:  250\n"
          ],
          "name": "stdout"
        }
      ]
    },
    {
      "cell_type": "code",
      "metadata": {
        "colab_type": "code",
        "id": "9nc3NLS_hyA0",
        "outputId": "b709a01b-df0b-4b00-be63-a2f2c30c08ae",
        "colab": {
          "base_uri": "https://localhost:8080/",
          "height": 527
        }
      },
      "source": [
        "myCatsAndDogs.trainModel()"
      ],
      "execution_count": 0,
      "outputs": [
        {
          "output_type": "stream",
          "text": [
            "Epoch 1/5\n",
            "7/6 [=================================] - 6s 859ms/step - loss: 0.0442 - categorical_accuracy: 0.9850 - val_loss: 6.0888 - val_categorical_accuracy: 0.5781\n",
            "Epoch 2/5\n",
            "7/6 [=================================] - 2s 304ms/step - loss: 0.1114 - categorical_accuracy: 0.9600 - val_loss: 3.9342 - val_categorical_accuracy: 0.6406\n",
            "Epoch 3/5\n",
            "7/6 [=================================] - 2s 304ms/step - loss: 0.0443 - categorical_accuracy: 0.9800 - val_loss: 3.7022 - val_categorical_accuracy: 0.5000\n",
            "Epoch 4/5\n",
            "7/6 [=================================] - 2s 304ms/step - loss: 0.1188 - categorical_accuracy: 0.9800 - val_loss: 4.1379 - val_categorical_accuracy: 0.5781\n",
            "Epoch 5/5\n",
            "7/6 [=================================] - 2s 303ms/step - loss: 0.0569 - categorical_accuracy: 0.9850 - val_loss: 3.6165 - val_categorical_accuracy: 0.5312\n",
            "Epoch 1/5\n",
            "7/6 [=================================] - 6s 827ms/step - loss: 0.0027 - categorical_accuracy: 1.0000 - val_loss: 48.4222 - val_categorical_accuracy: 0.8125\n",
            "Epoch 2/5\n",
            "7/6 [=================================] - 2s 305ms/step - loss: 0.0278 - categorical_accuracy: 0.9950 - val_loss: 327.5556 - val_categorical_accuracy: 0.4375\n",
            "Epoch 3/5\n",
            "7/6 [=================================] - 2s 304ms/step - loss: 8.2465e-05 - categorical_accuracy: 1.0000 - val_loss: 534.1570 - val_categorical_accuracy: 0.5312\n",
            "Epoch 4/5\n",
            "7/6 [=================================] - 2s 302ms/step - loss: 0.0015 - categorical_accuracy: 1.0000 - val_loss: 614.7228 - val_categorical_accuracy: 0.4375\n",
            "Epoch 5/5\n",
            "7/6 [=================================] - 2s 305ms/step - loss: 0.0170 - categorical_accuracy: 0.9950 - val_loss: 844.2561 - val_categorical_accuracy: 0.4844\n",
            "Epoch 1/5\n",
            "7/6 [=================================] - 4s 616ms/step - loss: 0.0014 - categorical_accuracy: 1.0000 - val_loss: 3.2854e-05 - val_categorical_accuracy: 1.0000\n",
            "Epoch 2/5\n",
            "7/6 [=================================] - 1s 104ms/step - loss: 4.0193e-05 - categorical_accuracy: 1.0000 - val_loss: 1.0971e-04 - val_categorical_accuracy: 1.0000\n",
            "Epoch 3/5\n",
            "7/6 [=================================] - 1s 103ms/step - loss: 2.2218e-04 - categorical_accuracy: 1.0000 - val_loss: 5.1478e-06 - val_categorical_accuracy: 1.0000\n",
            "Epoch 4/5\n",
            "7/6 [=================================] - 1s 106ms/step - loss: 4.6770e-06 - categorical_accuracy: 1.0000 - val_loss: 5.4422e-05 - val_categorical_accuracy: 1.0000\n",
            "Epoch 5/5\n",
            "7/6 [=================================] - 1s 104ms/step - loss: 9.9673e-05 - categorical_accuracy: 1.0000 - val_loss: 5.3939e-06 - val_categorical_accuracy: 1.0000\n"
          ],
          "name": "stdout"
        }
      ]
    },
    {
      "cell_type": "code",
      "metadata": {
        "colab_type": "code",
        "id": "9gHKrQFYn5b-",
        "outputId": "4d202ce2-ffc0-4a41-bd5b-f4d05e2e072f",
        "colab": {
          "base_uri": "https://localhost:8080/",
          "height": 68
        }
      },
      "source": [
        "myCatsAndDogs.evaluateTest()"
      ],
      "execution_count": 0,
      "outputs": [
        {
          "output_type": "stream",
          "text": [
            "63/63 [==============================] - 3s 50ms/step - loss: 3.5266 - categorical_accuracy: 0.5770\n",
            "63/63 [==============================] - 3s 51ms/step - loss: 880.7145 - categorical_accuracy: 0.5000\n",
            "63/63 [==============================] - 3s 51ms/step - loss: 0.0773 - categorical_accuracy: 0.9865\n"
          ],
          "name": "stdout"
        }
      ]
    },
    {
      "cell_type": "code",
      "metadata": {
        "colab_type": "code",
        "id": "NcZiNTAPhzHb",
        "outputId": "0aa7ec85-918a-4fca-e29d-839f6b0f277d",
        "colab": {
          "base_uri": "https://localhost:8080/",
          "height": 902
        }
      },
      "source": [
        "myCatsAndDogs.plotsResults()"
      ],
      "execution_count": 0,
      "outputs": [
        {
          "output_type": "stream",
          "text": [
            "dict_keys(['loss', 'categorical_accuracy', 'val_loss', 'val_categorical_accuracy'])\n"
          ],
          "name": "stdout"
        },
        {
          "output_type": "display_data",
          "data": {
            "image/png": "[encoded data removed]",
            "text/plain": [
              "<Figure size 432x288 with 1 Axes>"
            ]
          },
          "metadata": {
            "tags": [],
            "needs_background": "light"
          }
        },
        {
          "output_type": "stream",
          "text": [
            "dict_keys(['loss', 'categorical_accuracy', 'val_loss', 'val_categorical_accuracy'])\n"
          ],
          "name": "stdout"
        },
        {
          "output_type": "display_data",
          "data": {
            "image/png": "[encoded data removed]",
            "text/plain": [
              "<Figure size 432x288 with 1 Axes>"
            ]
          },
          "metadata": {
            "tags": [],
            "needs_background": "light"
          }
        },
        {
          "output_type": "stream",
          "text": [
            "dict_keys(['loss', 'categorical_accuracy', 'val_loss', 'val_categorical_accuracy'])\n"
          ],
          "name": "stdout"
        },
        {
          "output_type": "display_data",
          "data": {
            "image/png": "[encoded data removed]",
            "text/plain": [
              "<Figure size 432x288 with 1 Axes>"
            ]
          },
          "metadata": {
            "tags": [],
            "needs_background": "light"
          }
        }
      ]
    },
    {
      "cell_type": "markdown",
      "metadata": {
        "colab_type": "text",
        "id": "NTtpHjLbGhD9"
      },
      "source": [
        "## **Observações Finais**\n",
        "\n"
      ]
    },
    {
      "cell_type": "markdown",
      "metadata": {
        "id": "KmSFxDCFkINL",
        "colab_type": "text"
      },
      "source": [
        "### Resultados para a rede NASNetMobile sem usar os pesos imagenet\n",
        "\n",
        "**Observe-se os resultados comparativos entre os três *datasets* para a rede NASNetMobile sem usar os pesos imagenet:**\n",
        "\n",
        "| Tamanho/Número Imagens *Dataset* Treino | Resultados *Accuracy* |\n",
        "| --------------------------------------- | --------------------- |\n",
        "| 23000 imagens                           | 0.5265 ≅ 53%          |\n",
        "| 2500 imagens                            | 0.5925 ≅ 60%          |\n",
        "| 250 imagens                             | 0.5770 ≅ 60%          |\n"
      ]
    },
    {
      "cell_type": "markdown",
      "metadata": {
        "id": "fQRwh1S6kQyY",
        "colab_type": "text"
      },
      "source": [
        "### Resultados para a rede NASNetMobile a usar os pesos imagenet\n",
        "\n",
        "**Observe-se os resultados comparativos entre os três *datasets* para a rede NASNetMobile a usar os pesos imagenet:**\n",
        "\n",
        "| Tamanho/Número Imagens *Dataset* Treino | Resultados *Accuracy* |\n",
        "| --------------------------------------- | --------------------- |\n",
        "| 23000 imagens                           | 0.8265 ≅ 83%          |\n",
        "| 2500 imagens                            | 0.7260 ≅ 73%          |\n",
        "| 250 imagens                             | 0.5000 ≅ 50%          |"
      ]
    },
    {
      "cell_type": "markdown",
      "metadata": {
        "id": "3jD-cEankYLB",
        "colab_type": "text"
      },
      "source": [
        "### Resultados para a rede NASNetMobile a usar os pesos da imagenet mas congelando os *layers* convolucionais\n",
        "\n",
        "**Observe-se os resultados comparativos entre os três *datasets* para a rede NASNetMobile a usar os pesos da imagenet mas congelando os *layers* convolucionais:**\n",
        "\n",
        "| Tamanho/Número Imagens *Dataset* Treino | Resultados *Accuracy* |\n",
        "| --------------------------------------- | --------------------- |\n",
        "| 23000 imagens                           | 0.9835 ≅ 98%          |\n",
        "| 2500 imagens                            | 0.9855 ≅ 99%          |\n",
        "| 250 imagens                             | 0.9865 ≅ 99%          |\n",
        "\n"
      ]
    },
    {
      "cell_type": "markdown",
      "metadata": {
        "id": "dZwtfuVdkj43",
        "colab_type": "text"
      },
      "source": [
        "- O Modelo 3 é o melhor, como seria de esperar, dado que usa os pesos e congela as *layers* convolucionais;\n",
        "- Nota-se uma diferença uma diferença significativa para o Modelo 2 em termos de tamanho de *dataset*, sendo o *dataset* maior aquele que apresenta melhores resultados de *accuracy*;\n",
        "- Quanto ao uso do Modelo 1 não se nota grande diferença entre os três *datasets* treinados/testados.\n",
        "\n",
        "**Note-se que apenas se testou para o valor de 5 epochs, podendo este influenciar nos resultados obtidos.**"
      ]
    }
  ]
}