{
 "cells": [
  {
   "cell_type": "markdown",
   "metadata": {},
   "source": [
    "# Exploração dados COVID-19 em Portugal"
   ]
  },
  {
   "cell_type": "code",
   "execution_count": null,
   "metadata": {},
   "outputs": [],
   "source": [
    "import pandas as pd\n",
    "df = pd.read_csv(\"https://raw.githubusercontent.com/jgrocha/covid-pt/master/situacao_epidemiologica.csv\")\n",
    "df.head()"
   ]
  },
  {
   "cell_type": "code",
   "execution_count": null,
   "metadata": {},
   "outputs": [],
   "source": [
    "import matplotlib.pyplot as plt\n",
    "\n",
    "sorted_df = df.sort_values(by=['data_relatorio'])\n",
    "\n",
    "x = sorted_df.data_relatorio\n",
    "y = sorted_df.confirmados\n",
    "plt.scatter(x, y)"
   ]
  },
  {
   "cell_type": "code",
   "execution_count": null,
   "metadata": {},
   "outputs": [],
   "source": [
    "import os\n",
    "import sys\n",
    "from osgeo import ogr\n",
    "os.environ['QT_QPA_PLATFORM'] = 'offscreen'\n",
    "sys.path.insert(0,'/usr/share/qgis/python')\n",
    "from qgis.core import *\n",
    "#QgsApplication.setPrefixPath(\"/usr/local\", True) \n",
    "from qgis.gui import *\n",
    "from qgis import processing\n",
    "\n",
    "from qgis.PyQt.QtGui import QColor, QImage\n",
    "from qgis.PyQt.QtCore import QSize, QBuffer, QIODevice\n",
    "\n",
    "qgs = QgsApplication([], False)\n",
    "qgs.initQgis()\n",
    "print(QgsApplication.showSettings())"
   ]
  },
  {
   "cell_type": "code",
   "execution_count": null,
   "metadata": {},
   "outputs": [],
   "source": [
    "covid_gpkg = \"covid-pt-2020-04-20.gpkg\"\n",
    "conn = ogr.Open(covid_gpkg)\n",
    "for i in conn:\n",
    "    vlayer = QgsVectorLayer(\"{}|layername={}\".format(covid_gpkg, i.GetName()), i.GetName(), \"ogr\")\n",
    "    if not vlayer.isValid():\n",
    "        print(\"Layer {} failed to load\".format(i.GetName()))\n",
    "    else:\n",
    "        QgsProject.instance().addMapLayer(vlayer)\n",
    "        print(\"Layer {} loaded\".format(i.GetName()))\n"
   ]
  },
  {
   "cell_type": "code",
   "execution_count": null,
   "metadata": {
    "scrolled": false
   },
   "outputs": [],
   "source": [
    "concelho = QgsProject.instance().mapLayersByName('concelho')[0]\n",
    "for c in concelho.getFeatures():\n",
    "        print(\"Em {} há {} caso(s) confirmados\".format(c[\"concelho\"], c[\"confirmados_concelho_20/04/2020\"]))"
   ]
  },
  {
   "cell_type": "code",
   "execution_count": null,
   "metadata": {
    "scrolled": true
   },
   "outputs": [],
   "source": [
    "expr_sem_casos = QgsExpression( \" \\\"confirmados_concelho_20/04/2020\\\" IS NULL \" )\n",
    "virgens = list(concelho.getFeatures( QgsFeatureRequest( expr_sem_casos ) ))\n",
    "for c in virgens:\n",
    "        print(\"Em {} não há pelos menos 3 casos confirmados\".format(c[\"concelho\"]))"
   ]
  },
  {
   "cell_type": "code",
   "execution_count": null,
   "metadata": {},
   "outputs": [],
   "source": [
    "xt = concelho.extent()\n",
    "# print(xt)\n",
    "width  = 400\n",
    "height = int(width*xt.height()/xt.width())\n",
    "print(\"Gerar mapa com {} por {}\".format(width, height))\n",
    "\n",
    "options = QgsMapSettings()\n",
    "options.setLayers([concelho])\n",
    "options.setBackgroundColor(QColor(255, 255, 255))\n",
    "options.setOutputSize(QSize(width, height))\n",
    "options.setExtent(xt)\n",
    "           \n",
    "render = QgsMapRendererParallelJob(options)\n",
    "render.start()\n",
    "render.waitForFinished()\n",
    "\n",
    "image = render.renderedImage()\n"
   ]
  },
  {
   "cell_type": "code",
   "execution_count": null,
   "metadata": {},
   "outputs": [],
   "source": [
    "from IPython.display import Image"
   ]
  },
  {
   "cell_type": "code",
   "execution_count": null,
   "metadata": {},
   "outputs": [],
   "source": [
    "imgbuf= QBuffer()\n",
    "imgbuf.open( QIODevice.ReadWrite )\n",
    "image.save( imgbuf,\"PNG\" )\n",
    "Image( imgbuf.data() )"
   ]
  }
 ],
 "metadata": {
  "kernelspec": {
   "display_name": "Python 3.8.2 64-bit",
   "language": "python",
   "name": "python38264bitac5afd56d0c649afbe187b058e4a64db"
  },
  "language_info": {
   "codemirror_mode": {
    "name": "ipython",
    "version": 3
   },
   "file_extension": ".py",
   "mimetype": "text/x-python",
   "name": "python",
   "nbconvert_exporter": "python",
   "pygments_lexer": "ipython3",
   "version": "3.8.2-final"
  }
 },
 "nbformat": 4,
 "nbformat_minor": 2
}