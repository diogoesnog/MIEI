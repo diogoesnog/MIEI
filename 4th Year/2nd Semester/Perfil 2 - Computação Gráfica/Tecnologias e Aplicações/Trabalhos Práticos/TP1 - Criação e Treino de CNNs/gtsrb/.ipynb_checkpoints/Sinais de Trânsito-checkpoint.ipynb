{
 "cells": [
  {
   "cell_type": "code",
   "execution_count": 1,
   "metadata": {},
   "outputs": [],
   "source": [
    "import tensorflow as tf\n",
    "from tensorflow import keras\n",
    "import os\n",
    "import numpy as np\n",
    "\n",
    "import matplotlib.pyplot as plt\n",
    "import pathlib\n",
    "from PIL import Image\n",
    "import IPython.display as display\n",
    "import re\n",
    "\n",
    "from tensorflow.keras.models import Sequential\n",
    "from tensorflow.keras.layers import Dense, Dropout, Activation, Flatten, Conv2D, MaxPooling2D\n",
    "from tensorflow.keras import metrics\n",
    "from tensorflow.keras.optimizers import Adam"
   ]
  },
  {
   "cell_type": "markdown",
   "metadata": {},
   "source": [
    "### Variáveis Globais"
   ]
  },
  {
   "cell_type": "code",
   "execution_count": 2,
   "metadata": {},
   "outputs": [],
   "source": [
    "imgSize = 32\n",
    "batchSize = 32\n",
    "AUTOTUNE = tf.data.experimental.AUTOTUNE"
   ]
  },
  {
   "cell_type": "markdown",
   "metadata": {},
   "source": [
    "### Funções Auxiliares"
   ]
  },
  {
   "cell_type": "code",
   "execution_count": 3,
   "metadata": {},
   "outputs": [],
   "source": [
    "data_dir = pathlib.Path('gtsrb/train_images/')\n",
    "classNames = np.array(os.listdir(data_dir))\n",
    "\n",
    "def get_label(file_path):\n",
    "  # convert the path to a list of path components\n",
    "  parts = tf.strings.split(file_path, os.path.sep)\n",
    "  # The second to last is the class-directory\n",
    "  return parts[-2] == classNames\n",
    "\n",
    "def decode_img(img):\n",
    "  # convert the compressed string to a 3D uint8 tensor\n",
    "  img = tf.image.decode_png(img, channels=3)\n",
    "  # Use `convert_image_dtype` to convert to floats in the [0,1] range.\n",
    "  img = tf.image.convert_image_dtype(img, tf.float32)\n",
    "  # resize the image to the desired size.\n",
    "  return tf.image.resize(img, [32,32])\n",
    "\n",
    "def get_bytes_and_label(file_path):\n",
    "  label = get_label(file_path)\n",
    "  # load the raw data from the file as a string\n",
    "  img = tf.io.read_file(file_path)\n",
    "  img = decode_img(img)\n",
    "  return img, label"
   ]
  },
  {
   "cell_type": "markdown",
   "metadata": {},
   "source": [
    "### Modelo CNN"
   ]
  },
  {
   "cell_type": "code",
   "execution_count": 4,
   "metadata": {},
   "outputs": [],
   "source": [
    "def CNN(classCount, imgSize, channels):\n",
    "    model = Sequential()\n",
    "    \n",
    "    model.add(Conv2D(64, (5, 5), padding='same',\n",
    "                     input_shape=(imgSize, imgSize, channels),\n",
    "                     activation='relu'))                     \n",
    "    model.add(Conv2D(64, (5, 5), activation='relu') ) \n",
    "    model.add(MaxPooling2D(pool_size=(2, 2)))    \n",
    "    model.add(Conv2D(64, (3, 3), activation='relu') )   \n",
    "    model.add(MaxPooling2D(pool_size=(2, 2)))\n",
    "    \n",
    "    model.add(Flatten())\n",
    "    model.add(Dense(128, activation='relu'))\n",
    "    model.add(Dropout(0.5))\n",
    "\n",
    "    model.add(Dense(classCount, activation='softmax'))\n",
    "    \n",
    "    opt = Adam(lr=0.001)\n",
    "    model.compile(optimizer = opt, loss='categorical_crossentropy', metrics=[ metrics.categorical_accuracy])\n",
    "    return model\n",
    "\n",
    "model = CNN(43, imgSize, 3)"
   ]
  },
  {
   "cell_type": "markdown",
   "metadata": {},
   "source": [
    "### Divisão dos Datasets *Training* e *Validation* "
   ]
  },
  {
   "cell_type": "code",
   "execution_count": 5,
   "metadata": {},
   "outputs": [],
   "source": [
    "# Arrays para guardar Paths das imagens para cada Dataset\n",
    "training = []\n",
    "validation = []\n",
    "\n",
    "# Diretoria Global a ambos os Datasets\n",
    "path = 'gtsrb/train_images/'\n",
    "dir = os.listdir(path)\n",
    "\n",
    "pattern = '000[0-9]{2}_000(01|02|05|25|27)'\n",
    "\n",
    "for namePath in dir:\n",
    "    images = os.listdir(path + namePath)\n",
    "    for i in images:\n",
    "        if re.search(pattern, i):\n",
    "            validation.append(path + namePath + '/' + i)\n",
    "        elif re.search('[0-9]{5}_[0-9]{5}.png', i):\n",
    "            training.append(path + namePath + '/' + i)"
   ]
  },
  {
   "cell_type": "markdown",
   "metadata": {},
   "source": [
    "### Carregar Imagens Datasets *Training* e *Validation*"
   ]
  },
  {
   "cell_type": "code",
   "execution_count": 6,
   "metadata": {},
   "outputs": [],
   "source": [
    "listDatasetTraining = tf.data.Dataset.list_files(training)\n",
    "listDatasetValidation = tf.data.Dataset.list_files(validation)\n",
    "\n",
    "datasetTraining = listDatasetTraining.map(get_bytes_and_label, num_parallel_calls = AUTOTUNE)\n",
    "datasetTrainingLength = [i for i,_ in enumerate(datasetTraining)][-1] + 1\n",
    "\n",
    "datasetValidation = listDatasetValidation.map(get_bytes_and_label, num_parallel_calls = AUTOTUNE)\n",
    "datasetValidationLength = [i for i,_ in enumerate(datasetValidation)][-1] + 1"
   ]
  },
  {
   "cell_type": "markdown",
   "metadata": {},
   "source": [
    "### Preparar Datasets Training e Validation"
   ]
  },
  {
   "cell_type": "code",
   "execution_count": 7,
   "metadata": {},
   "outputs": [],
   "source": [
    "datasetTraining = datasetTraining.cache()\n",
    "datasetTraining = datasetTraining.shuffle(buffer_size = datasetTrainingLength)\n",
    "datasetTraining = datasetTraining.batch(batch_size=batchSize)\n",
    "datasetTraining = datasetTraining.prefetch(buffer_size=AUTOTUNE)\n",
    "datasetTraining = datasetTraining.repeat()\n",
    "\n",
    "datasetValidation = datasetValidation.cache()\n",
    "datasetValidation = datasetValidation.shuffle(buffer_size = datasetValidationLength)\n",
    "datasetValidation = datasetValidation.batch(batch_size=batchSize)\n",
    "datasetValidation = datasetValidation.prefetch(buffer_size=AUTOTUNE)\n",
    "datasetValidation = datasetValidation.repeat()"
   ]
  },
  {
   "cell_type": "markdown",
   "metadata": {},
   "source": [
    "### Carregar Imagens e Preparar Dataset *Test*"
   ]
  },
  {
   "cell_type": "code",
   "execution_count": 8,
   "metadata": {},
   "outputs": [],
   "source": [
    "datasetTest = tf.data.Dataset.list_files(\"gtsrb/test_images/*/*.png\")\n",
    "\n",
    "datasetTest = datasetTest.map(get_bytes_and_label, num_parallel_calls = AUTOTUNE)\n",
    "datasetTest = datasetTest.batch(batch_size=batchSize)"
   ]
  },
  {
   "cell_type": "markdown",
   "metadata": {},
   "source": [
    "### Treino da CNN"
   ]
  },
  {
   "cell_type": "code",
   "execution_count": 9,
   "metadata": {
    "scrolled": true
   },
   "outputs": [
    {
     "name": "stdout",
     "output_type": "stream",
     "text": [
      "Train for 1021.0625 steps, validate for 204.21875 steps\n",
      "Epoch 1/20\n",
      "1022/1021 [==============================] - 17s 17ms/step - loss: 1.5252 - categorical_accuracy: 0.5577 - val_loss: 0.4708 - val_categorical_accuracy: 0.8800\n",
      "Epoch 2/20\n",
      "1022/1021 [==============================] - 11s 11ms/step - loss: 0.3170 - categorical_accuracy: 0.8995 - val_loss: 0.1409 - val_categorical_accuracy: 0.9590\n",
      "Epoch 3/20\n",
      "1022/1021 [==============================] - 11s 11ms/step - loss: 0.1715 - categorical_accuracy: 0.9446 - val_loss: 0.1039 - val_categorical_accuracy: 0.9688\n",
      "Epoch 4/20\n",
      "1022/1021 [==============================] - 11s 11ms/step - loss: 0.1264 - categorical_accuracy: 0.9598 - val_loss: 0.0908 - val_categorical_accuracy: 0.9772\n",
      "Epoch 5/20\n",
      "1022/1021 [==============================] - 11s 11ms/step - loss: 0.1027 - categorical_accuracy: 0.9669 - val_loss: 0.0614 - val_categorical_accuracy: 0.9827\n",
      "Epoch 6/20\n",
      "1022/1021 [==============================] - 11s 11ms/step - loss: 0.0829 - categorical_accuracy: 0.9730 - val_loss: 0.0826 - val_categorical_accuracy: 0.9787\n",
      "Epoch 7/20\n",
      "1022/1021 [==============================] - 11s 11ms/step - loss: 0.0694 - categorical_accuracy: 0.9777 - val_loss: 0.0565 - val_categorical_accuracy: 0.9871\n",
      "Epoch 8/20\n",
      "1022/1021 [==============================] - 11s 11ms/step - loss: 0.0539 - categorical_accuracy: 0.9824 - val_loss: 0.0465 - val_categorical_accuracy: 0.9904\n",
      "Epoch 9/20\n",
      "1022/1021 [==============================] - 11s 11ms/step - loss: 0.0615 - categorical_accuracy: 0.9807 - val_loss: 0.0410 - val_categorical_accuracy: 0.9902\n",
      "Epoch 10/20\n",
      "1022/1021 [==============================] - 11s 11ms/step - loss: 0.0457 - categorical_accuracy: 0.9852 - val_loss: 0.0476 - val_categorical_accuracy: 0.9904\n",
      "Epoch 11/20\n",
      "1022/1021 [==============================] - 10s 10ms/step - loss: 0.0508 - categorical_accuracy: 0.9845 - val_loss: 0.0470 - val_categorical_accuracy: 0.9896\n",
      "Epoch 12/20\n",
      "1022/1021 [==============================] - 10s 10ms/step - loss: 0.0414 - categorical_accuracy: 0.9873 - val_loss: 0.0347 - val_categorical_accuracy: 0.9936\n",
      "Epoch 13/20\n",
      "1022/1021 [==============================] - 10s 10ms/step - loss: 0.0403 - categorical_accuracy: 0.9880 - val_loss: 0.0472 - val_categorical_accuracy: 0.9891\n",
      "Epoch 14/20\n",
      "1022/1021 [==============================] - 10s 10ms/step - loss: 0.0382 - categorical_accuracy: 0.9888 - val_loss: 0.0366 - val_categorical_accuracy: 0.9939\n",
      "Epoch 15/20\n",
      "1022/1021 [==============================] - 10s 10ms/step - loss: 0.0365 - categorical_accuracy: 0.9901 - val_loss: 0.0398 - val_categorical_accuracy: 0.9917\n",
      "Epoch 16/20\n",
      "1022/1021 [==============================] - 10s 10ms/step - loss: 0.0265 - categorical_accuracy: 0.9917 - val_loss: 0.0387 - val_categorical_accuracy: 0.9930\n",
      "Epoch 17/20\n",
      "1022/1021 [==============================] - 9s 9ms/step - loss: 0.0381 - categorical_accuracy: 0.9896 - val_loss: 0.0447 - val_categorical_accuracy: 0.9908\n",
      "Epoch 18/20\n",
      "1022/1021 [==============================] - 11s 11ms/step - loss: 0.0273 - categorical_accuracy: 0.9915 - val_loss: 0.0405 - val_categorical_accuracy: 0.9922\n",
      "Epoch 19/20\n",
      "1022/1021 [==============================] - 11s 11ms/step - loss: 0.0307 - categorical_accuracy: 0.9913 - val_loss: 0.0305 - val_categorical_accuracy: 0.9936\n",
      "Epoch 20/20\n",
      "1022/1021 [==============================] - 11s 11ms/step - loss: 0.0286 - categorical_accuracy: 0.9916 - val_loss: 0.0429 - val_categorical_accuracy: 0.9928\n"
     ]
    }
   ],
   "source": [
    "history = model.fit(\n",
    "    datasetTraining,\n",
    "    steps_per_epoch = datasetTrainingLength/batchSize,\n",
    "    epochs = 20,\n",
    "    validation_data = datasetValidation,\n",
    "    validation_steps = datasetValidationLength/batchSize\n",
    ")"
   ]
  },
  {
   "cell_type": "markdown",
   "metadata": {},
   "source": [
    "### Plot the Training History"
   ]
  },
  {
   "cell_type": "code",
   "execution_count": 10,
   "metadata": {},
   "outputs": [
    {
     "name": "stdout",
     "output_type": "stream",
     "text": [
      "dict_keys(['loss', 'categorical_accuracy', 'val_loss', 'val_categorical_accuracy'])\n"
     ]
    },
    {
     "data": {
      "image/png": "[encoded data removed]",
      "text/plain": [
       "<Figure size 432x288 with 1 Axes>"
      ]
     },
     "metadata": {
      "needs_background": "light"
     },
     "output_type": "display_data"
    },
    {
     "data": {
      "image/png": "[encoded data removed]",
      "text/plain": [
       "<Figure size 432x288 with 1 Axes>"
      ]
     },
     "metadata": {
      "needs_background": "light"
     },
     "output_type": "display_data"
    }
   ],
   "source": [
    "# Summarize History for Accuracy\n",
    "\n",
    "\n",
    "acc = history.history['accuracy']\n",
    "val_acc = history.history['val_accuracy']\n",
    "loss = history.history['loss']\n",
    "val_loss = history.history['val_loss']\n",
    "epochs = range(1, len(acc) + 1)\n",
    "\n",
    "plt.plot(epochs, acc, 'b', label='Training acc')\n",
    "plt.plot(epochs, val_acc, 'g', label='Validation acc')\n",
    "plt.xlabel('Epochs')\n",
    "plt.ylabel('Accuracy')\n",
    "\n",
    "plt.title('Training and validation accuracy')\n",
    "plt.legend()\n",
    "fig = plt.figure()\n",
    "fig.savefig('acc.png')\n",
    "\n",
    "\n",
    "plt.plot(epochs, loss, 'b', label='Training loss')\n",
    "plt.plot(epochs, val_loss, 'g', label='Validation loss')\n",
    "plt.xlabel('Epochs')\n",
    "plt.ylabel('Loss')\n",
    "plt.title('Training and validation loss')\n",
    "\n",
    "plt.legend()\n",
    "plt.show()"
   ]
  },
  {
   "cell_type": "code",
   "execution_count": 11,
   "metadata": {},
   "outputs": [
    {
     "name": "stdout",
     "output_type": "stream",
     "text": [
      "395/395 [==============================] - 3s 7ms/step - loss: 0.3195 - categorical_accuracy: 0.9704\n"
     ]
    },
    {
     "data": {
      "text/plain": [
       "[0.31950190749792523, 0.97038794]"
      ]
     },
     "execution_count": 11,
     "metadata": {},
     "output_type": "execute_result"
    }
   ],
   "source": [
    "model.evaluate(datasetTest)"
   ]
  },
  {
   "cell_type": "code",
   "execution_count": null,
   "metadata": {},
   "outputs": [],
   "source": []
  }
 ],
 "metadata": {
  "kernelspec": {
   "display_name": "Python 3",
   "language": "python",
   "name": "python3"
  },
  "language_info": {
   "codemirror_mode": {
    "name": "ipython",
    "version": 3
   },
   "file_extension": ".py",
   "mimetype": "text/x-python",
   "name": "python",
   "nbconvert_exporter": "python",
   "pygments_lexer": "ipython3",
   "version": "3.7.0"
  }
 },
 "nbformat": 4,
 "nbformat_minor": 4
}
